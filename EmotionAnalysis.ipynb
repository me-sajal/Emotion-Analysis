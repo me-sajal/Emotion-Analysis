{
  "cells": [
    {
      "cell_type": "markdown",
      "metadata": {
        "id": "view-in-github",
        "colab_type": "text"
      },
      "source": [
        "<a href=\"https://colab.research.google.com/github/me-sajal/Emotion-Analysis/blob/main/EmotionAnalysis.ipynb\" target=\"_parent\"><img src=\"https://colab.research.google.com/assets/colab-badge.svg\" alt=\"Open In Colab\"/></a>"
      ]
    },
    {
      "cell_type": "markdown",
      "id": "de4ae22d",
      "metadata": {
        "id": "de4ae22d"
      },
      "source": [
        "dataset link \"https://www.kaggle.com/datasets/praveengovi/emotions-dataset-for-nlp?datasetId=605165&sortBy=voteCount\""
      ]
    },
    {
      "cell_type": "code",
      "execution_count": 1,
      "id": "bd8e23cb",
      "metadata": {
        "id": "bd8e23cb",
        "colab": {
          "base_uri": "https://localhost:8080/"
        },
        "outputId": "c40cb96d-b61f-4a0d-fbfd-eb5af96368c4"
      },
      "outputs": [
        {
          "output_type": "stream",
          "name": "stdout",
          "text": [
            "Collecting opendatasets\n",
            "  Downloading opendatasets-0.1.22-py3-none-any.whl (15 kB)\n",
            "Requirement already satisfied: tqdm in /usr/local/lib/python3.10/dist-packages (from opendatasets) (4.66.1)\n",
            "Requirement already satisfied: kaggle in /usr/local/lib/python3.10/dist-packages (from opendatasets) (1.5.16)\n",
            "Requirement already satisfied: click in /usr/local/lib/python3.10/dist-packages (from opendatasets) (8.1.7)\n",
            "Requirement already satisfied: six>=1.10 in /usr/local/lib/python3.10/dist-packages (from kaggle->opendatasets) (1.16.0)\n",
            "Requirement already satisfied: certifi in /usr/local/lib/python3.10/dist-packages (from kaggle->opendatasets) (2023.7.22)\n",
            "Requirement already satisfied: python-dateutil in /usr/local/lib/python3.10/dist-packages (from kaggle->opendatasets) (2.8.2)\n",
            "Requirement already satisfied: requests in /usr/local/lib/python3.10/dist-packages (from kaggle->opendatasets) (2.31.0)\n",
            "Requirement already satisfied: python-slugify in /usr/local/lib/python3.10/dist-packages (from kaggle->opendatasets) (8.0.1)\n",
            "Requirement already satisfied: urllib3 in /usr/local/lib/python3.10/dist-packages (from kaggle->opendatasets) (2.0.4)\n",
            "Requirement already satisfied: bleach in /usr/local/lib/python3.10/dist-packages (from kaggle->opendatasets) (6.0.0)\n",
            "Requirement already satisfied: webencodings in /usr/local/lib/python3.10/dist-packages (from bleach->kaggle->opendatasets) (0.5.1)\n",
            "Requirement already satisfied: text-unidecode>=1.3 in /usr/local/lib/python3.10/dist-packages (from python-slugify->kaggle->opendatasets) (1.3)\n",
            "Requirement already satisfied: charset-normalizer<4,>=2 in /usr/local/lib/python3.10/dist-packages (from requests->kaggle->opendatasets) (3.2.0)\n",
            "Requirement already satisfied: idna<4,>=2.5 in /usr/local/lib/python3.10/dist-packages (from requests->kaggle->opendatasets) (3.4)\n",
            "Installing collected packages: opendatasets\n",
            "Successfully installed opendatasets-0.1.22\n",
            "Please provide your Kaggle credentials to download this dataset. Learn more: http://bit.ly/kaggle-creds\n",
            "Your Kaggle username: sajalrokka\n",
            "Your Kaggle Key: ··········\n",
            "Downloading emotions-dataset-for-nlp.zip to ./emotions-dataset-for-nlp\n"
          ]
        },
        {
          "output_type": "stream",
          "name": "stderr",
          "text": [
            "100%|██████████| 721k/721k [00:00<00:00, 114MB/s]"
          ]
        },
        {
          "output_type": "stream",
          "name": "stdout",
          "text": [
            "\n"
          ]
        },
        {
          "output_type": "stream",
          "name": "stderr",
          "text": [
            "\n"
          ]
        }
      ],
      "source": [
        "!pip install opendatasets\n",
        "import opendatasets as od\n",
        "od.download(\"https://www.kaggle.com/datasets/praveengovi/emotions-dataset-for-nlp?datasetId=605165&sortBy=voteCount\")"
      ]
    },
    {
      "cell_type": "markdown",
      "source": [
        "- This line of code is using the `pip` package manager to install the Python package called `opendatasets`. It's a common practice to install external packages using `pip` to make them available for your Python projects.\n",
        "- This line imports the `opendatasets` package and aliases it as `od`. Importing packages allows you to access their functions and classes in your Python code.\n",
        "- This line of code uses the `download` function from the `opendatasets` package to download a dataset from a specified URL. In this case, it's downloading a dataset from Kaggle with the URL provided. Kaggle is a popular platform for data science and machine learning datasets.\n",
        "- The dataset being downloaded appears to be related to emotions and NLP (Natural Language Processing), and it has a specific dataset ID (605165) on Kaggle. It may be used for various data analysis and machine learning tasks related to emotions and text data.\n",
        "\n",
        "In summary, the code is installing the `opendatasets` package and then using it to download a specific dataset from Kaggle, which can be useful for data-related projects and analysis."
      ],
      "metadata": {
        "id": "eS9eKryi1C9d"
      },
      "id": "eS9eKryi1C9d"
    },
    {
      "cell_type": "code",
      "execution_count": 2,
      "id": "e5811bfc",
      "metadata": {
        "colab": {
          "base_uri": "https://localhost:8080/"
        },
        "id": "e5811bfc",
        "outputId": "1c737e01-e528-427b-cc76-48f6102864f8"
      },
      "outputs": [
        {
          "output_type": "stream",
          "name": "stderr",
          "text": [
            "[nltk_data] Downloading package stopwords to /root/nltk_data...\n",
            "[nltk_data]   Unzipping corpora/stopwords.zip.\n",
            "[nltk_data] Downloading package punkt to /root/nltk_data...\n",
            "[nltk_data]   Unzipping tokenizers/punkt.zip.\n"
          ]
        }
      ],
      "source": [
        "import numpy as np\n",
        "import pandas as pd\n",
        "from sklearn.feature_extraction.text import TfidfVectorizer\n",
        "from sklearn.naive_bayes import MultinomialNB\n",
        "from sklearn.linear_model import LogisticRegression\n",
        "from sklearn.svm import SVC\n",
        "from sklearn.metrics import accuracy_score, confusion_matrix, classification_report\n",
        "import matplotlib.pyplot as plt\n",
        "import seaborn as sns\n",
        "import nltk\n",
        "nltk.download('stopwords')\n",
        "nltk.download('punkt')\n",
        "stop_words = nltk.corpus.stopwords.words('english')\n"
      ]
    },
    {
      "cell_type": "markdown",
      "source": [
        "1. **Import Libraries:**\n",
        "   - `import numpy as np`: Imports the NumPy library, which is used for numerical operations and array handling.\n",
        "   - `import pandas as pd`: Imports the Pandas library, which is used for data manipulation and analysis.\n",
        "   - `from sklearn.feature_extraction.text import TfidfVectorizer`: Imports the TF-IDF Vectorizer from scikit-learn, a tool for text feature extraction.\n",
        "   - `from sklearn.naive_bayes import MultinomialNB`: Imports the Multinomial Naive Bayes classifier from scikit-learn.\n",
        "   - `from sklearn.linear_model import LogisticRegression`: Imports the Logistic Regression classifier from scikit-learn.\n",
        "   - `from sklearn.svm import SVC`: Imports the Support Vector Classifier (SVC) from scikit-learn.\n",
        "   - `from sklearn.metrics import accuracy_score, confusion_matrix, classification_report`: Imports various evaluation metrics for machine learning models.\n",
        "   - `import matplotlib.pyplot as plt`: Imports the Matplotlib library for data visualization.\n",
        "   - `import seaborn as sns`: Imports the Seaborn library, which enhances Matplotlib visualizations.\n",
        "   - `import nltk`: Imports the Natural Language Toolkit (NLTK) library for natural language processing tasks.\n",
        "   - `nltk.download('stopwords')`: Downloads NLTK's stopwords data, which are common words (e.g., \"the,\" \"and\") often removed from text during text analysis.\n",
        "   - `nltk.download('punkt')`: Downloads NLTK's Punkt tokenizer models for text tokenization.\n",
        "\n",
        "2. **Define Stopwords:**\n",
        "   - `stop_words = nltk.corpus.stopwords.words('english')`: Creates a list of English stopwords using NLTK's built-in stopwords corpus. These stopwords are typically removed from text data during text preprocessing to focus on meaningful words.\n",
        "\n",
        "The code appears to set up the necessary libraries and resources for text-based machine learning tasks. It prepares for tasks like text classification using various classifiers (Multinomial Naive Bayes, Logistic Regression, and Support Vector Classifier) and includes tools for data visualization and performance evaluation. Additionally, it downloads NLTK resources for text preprocessing."
      ],
      "metadata": {
        "id": "zmpYSCrY1EyI"
      },
      "id": "zmpYSCrY1EyI"
    },
    {
      "cell_type": "code",
      "execution_count": 3,
      "id": "51b72cc3",
      "metadata": {
        "id": "51b72cc3"
      },
      "outputs": [],
      "source": [
        "# Read the training data from file\n",
        "train_df = pd.read_csv(\"/content/emotions-dataset-for-nlp/train.txt\", header=None, sep=\";\", names=[\"Comment\", \"Emotion\"], encoding=\"utf-8\")\n",
        "\n",
        "# Read the test data from file\n",
        "test_df = pd.read_csv(\"/content/emotions-dataset-for-nlp/test.txt\", header=None, sep=\";\", names=[\"Comment\", \"Emotion\"], encoding=\"utf-8\")\n",
        "\n",
        "# Read the validation data from file\n",
        "val_df = pd.read_csv(\"/content/emotions-dataset-for-nlp/val.txt\", header=None, sep=\";\", names=[\"Comment\", \"Emotion\"], encoding=\"utf-8\")\n"
      ]
    },
    {
      "cell_type": "markdown",
      "source": [
        "These code snippets read training, test, and validation data from separate text files into Pandas DataFrames, where each row consists of a comment and its associated emotion label. Here are some short notes about what each part of the code does:\n",
        "\n",
        "1. **Reading Training Data**:\n",
        "   - Reads the training data from a text file located at \"/content/emotions-dataset-for-nlp/train.txt.\"\n",
        "   - The data is read with no header row (header=None) and semicolon (;) as the delimiter (sep=\";\").\n",
        "   - It assigns column names \"Comment\" and \"Emotion\" to the DataFrame.\n",
        "   - The \"utf-8\" encoding is specified to ensure proper handling of text.\n",
        "\n",
        "2. **Reading Test Data**:\n",
        "   - Reads the test data from a text file located at \"/content/emotions-dataset-for-nlp/test.txt.\"\n",
        "   - Similar to the training data, it uses no header, semicolon delimiter, and assigns column names.\n",
        "\n",
        "3. **Reading Validation Data**:\n",
        "   - Reads the validation data from a text file located at \"/content/emotions-dataset-for-nlp/val.txt.\"\n",
        "   - Follows the same conventions as the training and test data for reading and formatting.\n",
        "\n",
        "These code snippets are typically part of a data preprocessing pipeline in a machine learning or natural language processing project. Once executed, you'll have three Pandas DataFrames (`train_df`, `test_df`, and `val_df`) that contain your data, making it easier to perform further data analysis, preprocessing, and model training/validation/testing."
      ],
      "metadata": {
        "id": "6Gz0YBdU1FyK"
      },
      "id": "6Gz0YBdU1FyK"
    },
    {
      "cell_type": "code",
      "execution_count": 4,
      "id": "3439a50e",
      "metadata": {
        "colab": {
          "base_uri": "https://localhost:8080/",
          "height": 424
        },
        "id": "3439a50e",
        "outputId": "1094da0c-8930-4d12-83bb-b6d46346fea0"
      },
      "outputs": [
        {
          "output_type": "execute_result",
          "data": {
            "text/plain": [
              "                                                 Comment  Emotion\n",
              "0                                i didnt feel humiliated  sadness\n",
              "1      i can go from feeling so hopeless to so damned...  sadness\n",
              "2       im grabbing a minute to post i feel greedy wrong    anger\n",
              "3      i am ever feeling nostalgic about the fireplac...     love\n",
              "4                                   i am feeling grouchy    anger\n",
              "...                                                  ...      ...\n",
              "17995  im having ssa examination tomorrow in the morn...  sadness\n",
              "17996  i constantly worry about their fight against n...      joy\n",
              "17997  i feel its important to share this info for th...      joy\n",
              "17998  i truly feel that if you are passionate enough...      joy\n",
              "17999  i feel like i just wanna buy any cute make up ...      joy\n",
              "\n",
              "[18000 rows x 2 columns]"
            ],
            "text/html": [
              "\n",
              "  <div id=\"df-e21620e1-709f-4c86-a59e-b55ed8b8de41\" class=\"colab-df-container\">\n",
              "    <div>\n",
              "<style scoped>\n",
              "    .dataframe tbody tr th:only-of-type {\n",
              "        vertical-align: middle;\n",
              "    }\n",
              "\n",
              "    .dataframe tbody tr th {\n",
              "        vertical-align: top;\n",
              "    }\n",
              "\n",
              "    .dataframe thead th {\n",
              "        text-align: right;\n",
              "    }\n",
              "</style>\n",
              "<table border=\"1\" class=\"dataframe\">\n",
              "  <thead>\n",
              "    <tr style=\"text-align: right;\">\n",
              "      <th></th>\n",
              "      <th>Comment</th>\n",
              "      <th>Emotion</th>\n",
              "    </tr>\n",
              "  </thead>\n",
              "  <tbody>\n",
              "    <tr>\n",
              "      <th>0</th>\n",
              "      <td>i didnt feel humiliated</td>\n",
              "      <td>sadness</td>\n",
              "    </tr>\n",
              "    <tr>\n",
              "      <th>1</th>\n",
              "      <td>i can go from feeling so hopeless to so damned...</td>\n",
              "      <td>sadness</td>\n",
              "    </tr>\n",
              "    <tr>\n",
              "      <th>2</th>\n",
              "      <td>im grabbing a minute to post i feel greedy wrong</td>\n",
              "      <td>anger</td>\n",
              "    </tr>\n",
              "    <tr>\n",
              "      <th>3</th>\n",
              "      <td>i am ever feeling nostalgic about the fireplac...</td>\n",
              "      <td>love</td>\n",
              "    </tr>\n",
              "    <tr>\n",
              "      <th>4</th>\n",
              "      <td>i am feeling grouchy</td>\n",
              "      <td>anger</td>\n",
              "    </tr>\n",
              "    <tr>\n",
              "      <th>...</th>\n",
              "      <td>...</td>\n",
              "      <td>...</td>\n",
              "    </tr>\n",
              "    <tr>\n",
              "      <th>17995</th>\n",
              "      <td>im having ssa examination tomorrow in the morn...</td>\n",
              "      <td>sadness</td>\n",
              "    </tr>\n",
              "    <tr>\n",
              "      <th>17996</th>\n",
              "      <td>i constantly worry about their fight against n...</td>\n",
              "      <td>joy</td>\n",
              "    </tr>\n",
              "    <tr>\n",
              "      <th>17997</th>\n",
              "      <td>i feel its important to share this info for th...</td>\n",
              "      <td>joy</td>\n",
              "    </tr>\n",
              "    <tr>\n",
              "      <th>17998</th>\n",
              "      <td>i truly feel that if you are passionate enough...</td>\n",
              "      <td>joy</td>\n",
              "    </tr>\n",
              "    <tr>\n",
              "      <th>17999</th>\n",
              "      <td>i feel like i just wanna buy any cute make up ...</td>\n",
              "      <td>joy</td>\n",
              "    </tr>\n",
              "  </tbody>\n",
              "</table>\n",
              "<p>18000 rows × 2 columns</p>\n",
              "</div>\n",
              "    <div class=\"colab-df-buttons\">\n",
              "\n",
              "  <div class=\"colab-df-container\">\n",
              "    <button class=\"colab-df-convert\" onclick=\"convertToInteractive('df-e21620e1-709f-4c86-a59e-b55ed8b8de41')\"\n",
              "            title=\"Convert this dataframe to an interactive table.\"\n",
              "            style=\"display:none;\">\n",
              "\n",
              "  <svg xmlns=\"http://www.w3.org/2000/svg\" height=\"24px\" viewBox=\"0 -960 960 960\">\n",
              "    <path d=\"M120-120v-720h720v720H120Zm60-500h600v-160H180v160Zm220 220h160v-160H400v160Zm0 220h160v-160H400v160ZM180-400h160v-160H180v160Zm440 0h160v-160H620v160ZM180-180h160v-160H180v160Zm440 0h160v-160H620v160Z\"/>\n",
              "  </svg>\n",
              "    </button>\n",
              "\n",
              "  <style>\n",
              "    .colab-df-container {\n",
              "      display:flex;\n",
              "      gap: 12px;\n",
              "    }\n",
              "\n",
              "    .colab-df-convert {\n",
              "      background-color: #E8F0FE;\n",
              "      border: none;\n",
              "      border-radius: 50%;\n",
              "      cursor: pointer;\n",
              "      display: none;\n",
              "      fill: #1967D2;\n",
              "      height: 32px;\n",
              "      padding: 0 0 0 0;\n",
              "      width: 32px;\n",
              "    }\n",
              "\n",
              "    .colab-df-convert:hover {\n",
              "      background-color: #E2EBFA;\n",
              "      box-shadow: 0px 1px 2px rgba(60, 64, 67, 0.3), 0px 1px 3px 1px rgba(60, 64, 67, 0.15);\n",
              "      fill: #174EA6;\n",
              "    }\n",
              "\n",
              "    .colab-df-buttons div {\n",
              "      margin-bottom: 4px;\n",
              "    }\n",
              "\n",
              "    [theme=dark] .colab-df-convert {\n",
              "      background-color: #3B4455;\n",
              "      fill: #D2E3FC;\n",
              "    }\n",
              "\n",
              "    [theme=dark] .colab-df-convert:hover {\n",
              "      background-color: #434B5C;\n",
              "      box-shadow: 0px 1px 3px 1px rgba(0, 0, 0, 0.15);\n",
              "      filter: drop-shadow(0px 1px 2px rgba(0, 0, 0, 0.3));\n",
              "      fill: #FFFFFF;\n",
              "    }\n",
              "  </style>\n",
              "\n",
              "    <script>\n",
              "      const buttonEl =\n",
              "        document.querySelector('#df-e21620e1-709f-4c86-a59e-b55ed8b8de41 button.colab-df-convert');\n",
              "      buttonEl.style.display =\n",
              "        google.colab.kernel.accessAllowed ? 'block' : 'none';\n",
              "\n",
              "      async function convertToInteractive(key) {\n",
              "        const element = document.querySelector('#df-e21620e1-709f-4c86-a59e-b55ed8b8de41');\n",
              "        const dataTable =\n",
              "          await google.colab.kernel.invokeFunction('convertToInteractive',\n",
              "                                                    [key], {});\n",
              "        if (!dataTable) return;\n",
              "\n",
              "        const docLinkHtml = 'Like what you see? Visit the ' +\n",
              "          '<a target=\"_blank\" href=https://colab.research.google.com/notebooks/data_table.ipynb>data table notebook</a>'\n",
              "          + ' to learn more about interactive tables.';\n",
              "        element.innerHTML = '';\n",
              "        dataTable['output_type'] = 'display_data';\n",
              "        await google.colab.output.renderOutput(dataTable, element);\n",
              "        const docLink = document.createElement('div');\n",
              "        docLink.innerHTML = docLinkHtml;\n",
              "        element.appendChild(docLink);\n",
              "      }\n",
              "    </script>\n",
              "  </div>\n",
              "\n",
              "\n",
              "<div id=\"df-0426b3a1-a6e8-4892-bcb8-b628e3a62ca2\">\n",
              "  <button class=\"colab-df-quickchart\" onclick=\"quickchart('df-0426b3a1-a6e8-4892-bcb8-b628e3a62ca2')\"\n",
              "            title=\"Suggest charts.\"\n",
              "            style=\"display:none;\">\n",
              "\n",
              "<svg xmlns=\"http://www.w3.org/2000/svg\" height=\"24px\"viewBox=\"0 0 24 24\"\n",
              "     width=\"24px\">\n",
              "    <g>\n",
              "        <path d=\"M19 3H5c-1.1 0-2 .9-2 2v14c0 1.1.9 2 2 2h14c1.1 0 2-.9 2-2V5c0-1.1-.9-2-2-2zM9 17H7v-7h2v7zm4 0h-2V7h2v10zm4 0h-2v-4h2v4z\"/>\n",
              "    </g>\n",
              "</svg>\n",
              "  </button>\n",
              "\n",
              "<style>\n",
              "  .colab-df-quickchart {\n",
              "      --bg-color: #E8F0FE;\n",
              "      --fill-color: #1967D2;\n",
              "      --hover-bg-color: #E2EBFA;\n",
              "      --hover-fill-color: #174EA6;\n",
              "      --disabled-fill-color: #AAA;\n",
              "      --disabled-bg-color: #DDD;\n",
              "  }\n",
              "\n",
              "  [theme=dark] .colab-df-quickchart {\n",
              "      --bg-color: #3B4455;\n",
              "      --fill-color: #D2E3FC;\n",
              "      --hover-bg-color: #434B5C;\n",
              "      --hover-fill-color: #FFFFFF;\n",
              "      --disabled-bg-color: #3B4455;\n",
              "      --disabled-fill-color: #666;\n",
              "  }\n",
              "\n",
              "  .colab-df-quickchart {\n",
              "    background-color: var(--bg-color);\n",
              "    border: none;\n",
              "    border-radius: 50%;\n",
              "    cursor: pointer;\n",
              "    display: none;\n",
              "    fill: var(--fill-color);\n",
              "    height: 32px;\n",
              "    padding: 0;\n",
              "    width: 32px;\n",
              "  }\n",
              "\n",
              "  .colab-df-quickchart:hover {\n",
              "    background-color: var(--hover-bg-color);\n",
              "    box-shadow: 0 1px 2px rgba(60, 64, 67, 0.3), 0 1px 3px 1px rgba(60, 64, 67, 0.15);\n",
              "    fill: var(--button-hover-fill-color);\n",
              "  }\n",
              "\n",
              "  .colab-df-quickchart-complete:disabled,\n",
              "  .colab-df-quickchart-complete:disabled:hover {\n",
              "    background-color: var(--disabled-bg-color);\n",
              "    fill: var(--disabled-fill-color);\n",
              "    box-shadow: none;\n",
              "  }\n",
              "\n",
              "  .colab-df-spinner {\n",
              "    border: 2px solid var(--fill-color);\n",
              "    border-color: transparent;\n",
              "    border-bottom-color: var(--fill-color);\n",
              "    animation:\n",
              "      spin 1s steps(1) infinite;\n",
              "  }\n",
              "\n",
              "  @keyframes spin {\n",
              "    0% {\n",
              "      border-color: transparent;\n",
              "      border-bottom-color: var(--fill-color);\n",
              "      border-left-color: var(--fill-color);\n",
              "    }\n",
              "    20% {\n",
              "      border-color: transparent;\n",
              "      border-left-color: var(--fill-color);\n",
              "      border-top-color: var(--fill-color);\n",
              "    }\n",
              "    30% {\n",
              "      border-color: transparent;\n",
              "      border-left-color: var(--fill-color);\n",
              "      border-top-color: var(--fill-color);\n",
              "      border-right-color: var(--fill-color);\n",
              "    }\n",
              "    40% {\n",
              "      border-color: transparent;\n",
              "      border-right-color: var(--fill-color);\n",
              "      border-top-color: var(--fill-color);\n",
              "    }\n",
              "    60% {\n",
              "      border-color: transparent;\n",
              "      border-right-color: var(--fill-color);\n",
              "    }\n",
              "    80% {\n",
              "      border-color: transparent;\n",
              "      border-right-color: var(--fill-color);\n",
              "      border-bottom-color: var(--fill-color);\n",
              "    }\n",
              "    90% {\n",
              "      border-color: transparent;\n",
              "      border-bottom-color: var(--fill-color);\n",
              "    }\n",
              "  }\n",
              "</style>\n",
              "\n",
              "  <script>\n",
              "    async function quickchart(key) {\n",
              "      const quickchartButtonEl =\n",
              "        document.querySelector('#' + key + ' button');\n",
              "      quickchartButtonEl.disabled = true;  // To prevent multiple clicks.\n",
              "      quickchartButtonEl.classList.add('colab-df-spinner');\n",
              "      try {\n",
              "        const charts = await google.colab.kernel.invokeFunction(\n",
              "            'suggestCharts', [key], {});\n",
              "      } catch (error) {\n",
              "        console.error('Error during call to suggestCharts:', error);\n",
              "      }\n",
              "      quickchartButtonEl.classList.remove('colab-df-spinner');\n",
              "      quickchartButtonEl.classList.add('colab-df-quickchart-complete');\n",
              "    }\n",
              "    (() => {\n",
              "      let quickchartButtonEl =\n",
              "        document.querySelector('#df-0426b3a1-a6e8-4892-bcb8-b628e3a62ca2 button');\n",
              "      quickchartButtonEl.style.display =\n",
              "        google.colab.kernel.accessAllowed ? 'block' : 'none';\n",
              "    })();\n",
              "  </script>\n",
              "</div>\n",
              "    </div>\n",
              "  </div>\n"
            ]
          },
          "metadata": {},
          "execution_count": 4
        }
      ],
      "source": [
        "\n",
        "# Combine the training and validation data\n",
        "train_val_df = pd.concat([train_df, val_df], ignore_index=True)\n",
        "train_val_df\n",
        "\n"
      ]
    },
    {
      "cell_type": "markdown",
      "source": [
        "The code provided combines the training and validation data into a single DataFrame named `train_val_df`. Here are some short notes explaining this process:\n",
        "\n",
        "- **Purpose**: The purpose of this code is to create a combined dataset that includes both the training and validation data. This can be useful in various machine learning tasks, such as data preprocessing and model training.\n",
        "\n",
        "- **DataFrames**: The code assumes that there are two DataFrames named `train_df` and `val_df`, which presumably contain training and validation data, respectively.\n",
        "\n",
        "- **`pd.concat`**: This function is part of the Pandas library and is used to concatenate (combine) DataFrames along a specified axis. In this case, `pd.concat` is used to concatenate `train_df` and `val_df` vertically, stacking them on top of each other.\n",
        "\n",
        "- **`ignore_index=True`**: By setting `ignore_index` to `True`, the resulting combined DataFrame, `train_val_df`, will have a new index that ignores the original indices of `train_df` and `val_df`. This is useful to ensure a continuous index for the combined data.\n",
        "\n",
        "- **Result**: The result of running this code is the `train_val_df` DataFrame, which contains both the training and validation data. This combined dataset can then be used for further data manipulation, preprocessing, or model training as needed."
      ],
      "metadata": {
        "id": "cFfo8pnc1ILB"
      },
      "id": "cFfo8pnc1ILB"
    },
    {
      "cell_type": "code",
      "execution_count": 5,
      "id": "79d426a4",
      "metadata": {
        "colab": {
          "base_uri": "https://localhost:8080/",
          "height": 449
        },
        "id": "79d426a4",
        "outputId": "eb2083d1-41a4-4849-b903-825ec0320658"
      },
      "outputs": [
        {
          "output_type": "display_data",
          "data": {
            "text/plain": [
              "<Figure size 640x480 with 1 Axes>"
            ],
            "image/png": "[encoded data removed]"
          },
          "metadata": {}
        }
      ],
      "source": [
        "sns.countplot(data = train_df, x = 'Emotion')\n",
        "# Split the data into features and labels\n",
        "train_x = train_val_df[\"Comment\"]\n",
        "train_y = train_val_df[\"Emotion\"]\n",
        "test_x = test_df[\"Comment\"]\n",
        "test_y = test_df[\"Emotion\"]\n",
        "val_x = val_df[\"Comment\"]\n",
        "val_y = val_df[\"Emotion\"]"
      ]
    },
    {
      "cell_type": "markdown",
      "source": [
        "1. `sns.countplot(data=train_df, x='Emotion')`:\n",
        "   - This code uses the `seaborn` library to create a countplot.\n",
        "   - It visualizes the distribution of different emotions (or categories) in the `train_df` DataFrame using the 'Emotion' column as the x-axis.\n",
        "   - A countplot is a bar chart that displays the frequency of each category in a categorical variable.\n",
        "\n",
        "2. Splitting the data into features and labels:\n",
        "   - The code is splitting a dataset into features (input) and labels (output).\n",
        "   - `train_x` and `train_y` represent the training features (comments) and labels (emotions) respectively.\n",
        "   - `test_x` and `test_y` represent the testing features and labels, while `val_x` and `val_y` represent the validation features and labels.\n",
        "   - This separation is essential for supervised machine learning, where the model learns to map input features to output labels during training.\n",
        "\n",
        "In summary, the first code snippet creates a countplot to visualize the distribution of emotions in the training dataset. The second part of the code splits the dataset into training, testing, and validation sets, separating the features (comments) from the labels (emotions) to prepare the data for machine learning tasks like classification."
      ],
      "metadata": {
        "id": "uHTykaoo1JAI"
      },
      "id": "uHTykaoo1JAI"
    },
    {
      "cell_type": "code",
      "execution_count": 6,
      "id": "edabe656",
      "metadata": {
        "id": "edabe656"
      },
      "outputs": [],
      "source": [
        "labels = ['sadness', 'anger', 'love', 'surprise', 'fear', 'joy']\n"
      ]
    },
    {
      "cell_type": "markdown",
      "source": [
        "**Labels: ['sadness', 'anger', 'love', 'surprise', 'fear', 'joy']**\n",
        "\n",
        "1. **Sadness:** This label represents a state of emotional distress or unhappiness. It is often associated with feelings of sorrow, grief, or melancholy.\n",
        "\n",
        "2. **Anger:** This label signifies a strong feeling of displeasure, irritation, or hostility. Anger is characterized by a desire to express frustration or resentment.\n",
        "\n",
        "3. **Love:** Love is a profound and positive emotion characterized by affection, attachment, and caring for someone or something. It often involves strong feelings of warmth and fondness.\n",
        "\n",
        "4. **Surprise:** Surprise represents a sudden and unexpected reaction to something. It can be a mix of emotions, including astonishment, amazement, or shock.\n",
        "\n",
        "5. **Fear:** Fear is a powerful and often negative emotion triggered by the anticipation of danger, threat, or harm. It can lead to feelings of anxiety, apprehension, or panic.\n",
        "\n",
        "6. **Joy:** Joy is a positive and uplifting emotion associated with happiness, delight, and pleasure. It often leads to feelings of contentment, elation, or euphoria.\n",
        "\n",
        "These labels are commonly used in various contexts, including sentiment analysis, emotion recognition, and categorizing human emotions in texts, images, or other forms of data. Understanding and classifying these emotions can be valuable for applications such as customer sentiment analysis, mental health monitoring, and user experience evaluation."
      ],
      "metadata": {
        "id": "ZR0vzxIb1Jn3"
      },
      "id": "ZR0vzxIb1Jn3"
    },
    {
      "cell_type": "code",
      "execution_count": 7,
      "id": "0a4eb373",
      "metadata": {
        "colab": {
          "base_uri": "https://localhost:8080/"
        },
        "id": "0a4eb373",
        "outputId": "ab5a9a9b-175b-4c65-cdb8-18b50ab2a72e"
      },
      "outputs": [
        {
          "output_type": "execute_result",
          "data": {
            "text/plain": [
              "array(['sadness', 'anger', 'love', 'surprise', 'fear', 'joy'],\n",
              "      dtype=object)"
            ]
          },
          "metadata": {},
          "execution_count": 7
        }
      ],
      "source": [
        "# Split the data into features and labels\n",
        "train_x = train_val_df[\"Comment\"]\n",
        "train_y = train_val_df[\"Emotion\"]\n",
        "test_x = test_df[\"Comment\"]\n",
        "test_y = test_df[\"Emotion\"]\n",
        "\n",
        "train_y.unique()\n"
      ]
    },
    {
      "cell_type": "markdown",
      "source": [
        "1. **Data Splitting**: In this code snippet, a dataset is being prepared for a machine learning or natural language processing task. The data is divided into two parts: a training set (`train_x` and `train_y`) and a test set (`test_x` and `test_y`).\n",
        "\n",
        "2. **Features and Labels**: The features (`train_x` and `test_x`) typically contain the input data, which in this case appears to be comments or text data. The labels (`train_y` and `test_y`) contain the corresponding target values, which seem to represent emotions in this context.\n",
        "\n",
        "3. **Unique Labels**: The `unique()` method is used to obtain the unique emotion labels present in the training data. This is helpful for understanding the distribution of emotions in the dataset and can be useful for tasks like classification, where you need to identify different classes or categories.\n",
        "\n",
        "Overall, this code is an essential step in preparing a dataset for a machine learning task, as it separates the data into features and labels, which are crucial for training and evaluating models. Additionally, identifying unique labels provides insight into the diversity of emotions in the training data."
      ],
      "metadata": {
        "id": "7XGUt3Uf1Kc9"
      },
      "id": "7XGUt3Uf1Kc9"
    },
    {
      "cell_type": "code",
      "source": [
        "exclude_list = ['not']\n",
        "filtered_stopwords = [word for word in stop_words if word not in exclude_list]"
      ],
      "metadata": {
        "id": "_8fNqo4p5j8c"
      },
      "id": "_8fNqo4p5j8c",
      "execution_count": 8,
      "outputs": []
    },
    {
      "cell_type": "markdown",
      "source": [
        "1. **Purpose**: The code is intended to filter out specific words from a list of stop words.\n",
        "\n",
        "2. **Stopwords**: Stopwords are common words (e.g., \"the,\" \"and,\" \"is\") that are often removed from text data during natural language processing (NLP) tasks because they are considered to carry little semantic meaning.\n",
        "\n",
        "3. **`exclude_list`**: `exclude_list` is a Python list containing words that you want to exclude or remove from the list of stop words.\n",
        "\n",
        "4. **List Comprehension**: The code uses a list comprehension, denoted by `[...]`, to create a new list (`filtered_stopwords`) by iterating through each word in the `stop_words` list.\n",
        "\n",
        "5. **Condition**: For each word in the `stop_words` list, the code checks if it is not in the `exclude_list`. If the word is not in the `exclude_list`, it is included in the `filtered_stopwords` list.\n",
        "\n",
        "6. **Result**: After the code executes, `filtered_stopwords` will contain all the stop words from the original `stop_words` list except for the words listed in the `exclude_list`. This can be useful for customizing stop word lists for specific NLP tasks where certain words should be retained even if they are traditionally considered stop words.\n",
        "\n",
        "Overall, this code snippet demonstrates a way to filter stop words based on a specific exclusion list, allowing you to tailor your stop word list to the requirements of your NLP project."
      ],
      "metadata": {
        "id": "Tig_yE5v1LGx"
      },
      "id": "Tig_yE5v1LGx"
    },
    {
      "cell_type": "code",
      "execution_count": 9,
      "id": "b059ff9d",
      "metadata": {
        "colab": {
          "base_uri": "https://localhost:8080/"
        },
        "id": "b059ff9d",
        "outputId": "4279bb44-745c-4230-d0cd-8f676e27539d"
      },
      "outputs": [
        {
          "output_type": "execute_result",
          "data": {
            "text/plain": [
              "<18000x16030 sparse matrix of type '<class 'numpy.float64'>'\n",
              "\twith 164500 stored elements in Compressed Sparse Row format>"
            ]
          },
          "metadata": {},
          "execution_count": 9
        }
      ],
      "source": [
        "vectorizer = TfidfVectorizer(stop_words = filtered_stopwords)\n",
        "train_x_vec = vectorizer.fit_transform(train_x)\n",
        "test_x_vec = vectorizer.transform(test_x)\n",
        "val_x_vec = vectorizer.transform(val_x)\n",
        "train_x_vec"
      ]
    },
    {
      "cell_type": "markdown",
      "source": [
        "1. **Vectorizer Initialization**:\n",
        "   - `vectorizer = TfidfVectorizer(stop_words=filtered_stopwords)`: This line initializes a TF-IDF (Term Frequency-Inverse Document Frequency) vectorizer. It's used to convert text data into numerical vectors while considering stop words (common words like \"the,\" \"and,\" \"in\") specified in `filtered_stopwords` to be excluded.\n",
        "\n",
        "2. **Training Data Transformation**:\n",
        "   - `train_x_vec = vectorizer.fit_transform(train_x)`: Here, the `fit_transform` method is applied to the training data (`train_x`). It fits the vectorizer on the training data and transforms it into a TF-IDF matrix. Each row in this matrix represents a document from the training data, and each column corresponds to a unique word or term in the entire training corpus.\n",
        "\n",
        "3. **Test Data Transformation**:\n",
        "   - `test_x_vec = vectorizer.transform(test_x)`: This line uses the previously fitted vectorizer to transform the test data (`test_x`) into a TF-IDF matrix. It ensures that the same vectorization scheme applied to the training data is used for the test data.\n",
        "\n",
        "4. **Validation Data Transformation**:\n",
        "   - `val_x_vec = vectorizer.transform(val_x)`: Similar to the test data transformation, this line transforms the validation data (`val_x`) into a TF-IDF matrix using the same vectorizer settings.\n",
        "\n",
        "5. **Result**:\n",
        "   - `train_x_vec`: This variable now holds the TF-IDF representation of the training data after transformation. It can be used as input for training machine learning models.\n",
        "\n",
        "In summary, the code is preparing text data for machine learning by converting it into numerical vectors using TF-IDF vectorization. It fits the vectorizer on the training data and then transforms both the test and validation data using the same vectorization scheme. This process is common when working with text data for tasks like text classification or sentiment analysis."
      ],
      "metadata": {
        "id": "tf_PJtQO1MAt"
      },
      "id": "tf_PJtQO1MAt"
    },
    {
      "cell_type": "markdown",
      "id": "594390b9",
      "metadata": {
        "id": "594390b9"
      },
      "source": [
        "### MultinomialNB"
      ]
    },
    {
      "cell_type": "code",
      "execution_count": 10,
      "id": "5c8a62a2",
      "metadata": {
        "colab": {
          "base_uri": "https://localhost:8080/",
          "height": 75
        },
        "id": "5c8a62a2",
        "outputId": "b375eafc-799c-41ff-e73c-c7657754de8d"
      },
      "outputs": [
        {
          "output_type": "execute_result",
          "data": {
            "text/plain": [
              "MultinomialNB()"
            ],
            "text/html": [
              "<style>#sk-container-id-1 {color: black;background-color: white;}#sk-container-id-1 pre{padding: 0;}#sk-container-id-1 div.sk-toggleable {background-color: white;}#sk-container-id-1 label.sk-toggleable__label {cursor: pointer;display: block;width: 100%;margin-bottom: 0;padding: 0.3em;box-sizing: border-box;text-align: center;}#sk-container-id-1 label.sk-toggleable__label-arrow:before {content: \"▸\";float: left;margin-right: 0.25em;color: #696969;}#sk-container-id-1 label.sk-toggleable__label-arrow:hover:before {color: black;}#sk-container-id-1 div.sk-estimator:hover label.sk-toggleable__label-arrow:before {color: black;}#sk-container-id-1 div.sk-toggleable__content {max-height: 0;max-width: 0;overflow: hidden;text-align: left;background-color: #f0f8ff;}#sk-container-id-1 div.sk-toggleable__content pre {margin: 0.2em;color: black;border-radius: 0.25em;background-color: #f0f8ff;}#sk-container-id-1 input.sk-toggleable__control:checked~div.sk-toggleable__content {max-height: 200px;max-width: 100%;overflow: auto;}#sk-container-id-1 input.sk-toggleable__control:checked~label.sk-toggleable__label-arrow:before {content: \"▾\";}#sk-container-id-1 div.sk-estimator input.sk-toggleable__control:checked~label.sk-toggleable__label {background-color: #d4ebff;}#sk-container-id-1 div.sk-label input.sk-toggleable__control:checked~label.sk-toggleable__label {background-color: #d4ebff;}#sk-container-id-1 input.sk-hidden--visually {border: 0;clip: rect(1px 1px 1px 1px);clip: rect(1px, 1px, 1px, 1px);height: 1px;margin: -1px;overflow: hidden;padding: 0;position: absolute;width: 1px;}#sk-container-id-1 div.sk-estimator {font-family: monospace;background-color: #f0f8ff;border: 1px dotted black;border-radius: 0.25em;box-sizing: border-box;margin-bottom: 0.5em;}#sk-container-id-1 div.sk-estimator:hover {background-color: #d4ebff;}#sk-container-id-1 div.sk-parallel-item::after {content: \"\";width: 100%;border-bottom: 1px solid gray;flex-grow: 1;}#sk-container-id-1 div.sk-label:hover label.sk-toggleable__label {background-color: #d4ebff;}#sk-container-id-1 div.sk-serial::before {content: \"\";position: absolute;border-left: 1px solid gray;box-sizing: border-box;top: 0;bottom: 0;left: 50%;z-index: 0;}#sk-container-id-1 div.sk-serial {display: flex;flex-direction: column;align-items: center;background-color: white;padding-right: 0.2em;padding-left: 0.2em;position: relative;}#sk-container-id-1 div.sk-item {position: relative;z-index: 1;}#sk-container-id-1 div.sk-parallel {display: flex;align-items: stretch;justify-content: center;background-color: white;position: relative;}#sk-container-id-1 div.sk-item::before, #sk-container-id-1 div.sk-parallel-item::before {content: \"\";position: absolute;border-left: 1px solid gray;box-sizing: border-box;top: 0;bottom: 0;left: 50%;z-index: -1;}#sk-container-id-1 div.sk-parallel-item {display: flex;flex-direction: column;z-index: 1;position: relative;background-color: white;}#sk-container-id-1 div.sk-parallel-item:first-child::after {align-self: flex-end;width: 50%;}#sk-container-id-1 div.sk-parallel-item:last-child::after {align-self: flex-start;width: 50%;}#sk-container-id-1 div.sk-parallel-item:only-child::after {width: 0;}#sk-container-id-1 div.sk-dashed-wrapped {border: 1px dashed gray;margin: 0 0.4em 0.5em 0.4em;box-sizing: border-box;padding-bottom: 0.4em;background-color: white;}#sk-container-id-1 div.sk-label label {font-family: monospace;font-weight: bold;display: inline-block;line-height: 1.2em;}#sk-container-id-1 div.sk-label-container {text-align: center;}#sk-container-id-1 div.sk-container {/* jupyter's `normalize.less` sets `[hidden] { display: none; }` but bootstrap.min.css set `[hidden] { display: none !important; }` so we also need the `!important` here to be able to override the default hidden behavior on the sphinx rendered scikit-learn.org. See: https://github.com/scikit-learn/scikit-learn/issues/21755 */display: inline-block !important;position: relative;}#sk-container-id-1 div.sk-text-repr-fallback {display: none;}</style><div id=\"sk-container-id-1\" class=\"sk-top-container\"><div class=\"sk-text-repr-fallback\"><pre>MultinomialNB()</pre><b>In a Jupyter environment, please rerun this cell to show the HTML representation or trust the notebook. <br />On GitHub, the HTML representation is unable to render, please try loading this page with nbviewer.org.</b></div><div class=\"sk-container\" hidden><div class=\"sk-item\"><div class=\"sk-estimator sk-toggleable\"><input class=\"sk-toggleable__control sk-hidden--visually\" id=\"sk-estimator-id-1\" type=\"checkbox\" checked><label for=\"sk-estimator-id-1\" class=\"sk-toggleable__label sk-toggleable__label-arrow\">MultinomialNB</label><div class=\"sk-toggleable__content\"><pre>MultinomialNB()</pre></div></div></div></div></div>"
            ]
          },
          "metadata": {},
          "execution_count": 10
        }
      ],
      "source": [
        "# Train the model\n",
        "nb_model = MultinomialNB()\n",
        "nb_model.fit(train_x_vec, train_y)\n"
      ]
    },
    {
      "cell_type": "markdown",
      "source": [
        "- `nb_model`: This is a variable representing a Multinomial Naive Bayes (NB) classifier. Multinomial Naive Bayes is a type of probabilistic classifier commonly used for text classification tasks.\n",
        "\n",
        "- `MultinomialNB()`: This line initializes a Multinomial Naive Bayes classifier. The `MultinomialNB` class is typically part of a machine learning library like Scikit-Learn.\n",
        "\n",
        "- `fit(train_x_vec, train_y)`: This method is used to train the Multinomial Naive Bayes classifier. It takes two arguments:\n",
        "   - `train_x_vec`: This is the training data, which is often a collection of text documents that have been vectorized or transformed into numerical features. In the context of text classification, this is typically a matrix where rows represent documents, and columns represent features.\n",
        "   - `train_y`: These are the corresponding labels for the training data. In text classification, these labels represent the categories or classes to which each document belongs.\n",
        "\n",
        "The `fit` method essentially teaches the Multinomial Naive Bayes classifier how to classify text documents into different categories or classes based on the patterns it observes in the training data. Once trained, the classifier can be used to make predictions on new, unseen text data.\n",
        "\n",
        "Overall, this code snippet is a fundamental step in training a text classification model using Multinomial Naive Bayes, a popular choice for tasks such as spam detection and sentiment analysis."
      ],
      "metadata": {
        "id": "o46YOQKX1Mrb"
      },
      "id": "o46YOQKX1Mrb"
    },
    {
      "cell_type": "code",
      "execution_count": 11,
      "id": "f8acb930",
      "metadata": {
        "scrolled": true,
        "id": "f8acb930"
      },
      "outputs": [],
      "source": [
        "# Evaluate the model on the test data\n",
        "test_y_pred = nb_model.predict(test_x_vec)\n",
        "test_accuracy = accuracy_score(test_y, test_y_pred)\n",
        "test_confusion_matrix = confusion_matrix(test_y, test_y_pred)\n",
        "test_classification_report = classification_report(test_y, test_y_pred, zero_division=1)"
      ]
    },
    {
      "cell_type": "markdown",
      "source": [
        "1. **Evaluate the Model on Test Data**:\n",
        "   - In machine learning, it's essential to assess how well a trained model performs on unseen data.\n",
        "   - The code begins by using the trained `nb_model` to make predictions on the test data (`test_x_vec`).\n",
        "   \n",
        "2. **Calculate Test Accuracy**:\n",
        "   - Accuracy is a common metric used to measure the overall correctness of predictions.\n",
        "   - The `accuracy_score` function is used to compare the predicted labels (`test_y_pred`) to the true labels (`test_y`) and calculate the accuracy.\n",
        "   - The accuracy score represents the proportion of correctly predicted labels in the test data.\n",
        "\n",
        "3. **Generate Test Confusion Matrix**:\n",
        "   - A confusion matrix is a table used to evaluate the performance of a classification model.\n",
        "   - The `confusion_matrix` function calculates the number of true positives, true negatives, false positives, and false negatives based on the predicted and true labels.\n",
        "   - It provides insights into the model's performance for each class and helps identify potential areas of improvement.\n",
        "\n",
        "4. **Compute Test Classification Report**:\n",
        "   - The classification report is a summary of various classification metrics for each class in a multi-class problem.\n",
        "   - It includes metrics like precision, recall, F1-score, and support.\n",
        "   - The `classification_report` function calculates these metrics for each class based on the predicted labels (`test_y_pred`) and the true labels (`test_y`).\n",
        "   - The `zero_division` parameter is set to 1 to prevent division by zero errors when a class has no true instances (avoids a runtime error).\n",
        "\n",
        "Overall, these steps are part of the model evaluation process. They allow you to assess the performance of your machine learning model on a separate test dataset, providing insights into its accuracy and how well it performs for different classes in a classification problem."
      ],
      "metadata": {
        "id": "IffJmePI1NYA"
      },
      "id": "IffJmePI1NYA"
    },
    {
      "cell_type": "code",
      "execution_count": 12,
      "id": "14947cd7",
      "metadata": {
        "scrolled": false,
        "colab": {
          "base_uri": "https://localhost:8080/"
        },
        "id": "14947cd7",
        "outputId": "f45078c4-5392-4ba2-88cc-303e9b8aac1c"
      },
      "outputs": [
        {
          "output_type": "stream",
          "name": "stdout",
          "text": [
            "Test Accuracy: 0.691\n",
            "\n",
            "\n",
            "Test Classification Report:\n",
            "              precision    recall  f1-score   support\n",
            "\n",
            "       anger       0.95      0.33      0.49       275\n",
            "        fear       0.93      0.29      0.44       224\n",
            "         joy       0.65      0.99      0.78       695\n",
            "        love       1.00      0.05      0.10       159\n",
            "     sadness       0.69      0.91      0.79       581\n",
            "    surprise       1.00      0.00      0.00        66\n",
            "\n",
            "    accuracy                           0.69      2000\n",
            "   macro avg       0.87      0.43      0.43      2000\n",
            "weighted avg       0.77      0.69      0.63      2000\n",
            "\n"
          ]
        }
      ],
      "source": [
        "print(f\"Test Accuracy: {test_accuracy}\")\n",
        "print(\"\\n\")\n",
        "print(f\"Test Classification Report:\\n{test_classification_report}\")"
      ]
    },
    {
      "cell_type": "markdown",
      "source": [
        "1. `print(f\"Test Accuracy: {test_accuracy}\")`: This line of code is using Python's f-string formatting to display the test accuracy of a machine learning model. The variable `test_accuracy` should contain the accuracy value, and it's displayed in a user-friendly format along with a descriptive label, \"Test Accuracy.\"\n",
        "\n",
        "2. `print(\"\\n\")`: This line simply prints a newline character, creating a blank line in the console or output. It's often used to separate different sections or improve the readability of the output.\n",
        "\n",
        "3. `print(f\"Test Classification Report:\\n{test_classification_report}\")`: This line uses f-string formatting to display the test classification report generated by a machine learning model. The variable `test_classification_report` should contain the classification report, which typically includes metrics such as precision, recall, F1-score, and support for each class in a classification task. The \"\\n\" is used to add a newline character to format the output nicely, making it easier to read.\n",
        "\n",
        "In summary, these lines of code are used to report and display key evaluation metrics, specifically the test accuracy and test classification report, in a clear and organized manner for machine learning model assessment."
      ],
      "metadata": {
        "id": "sx2v77T81OMx"
      },
      "id": "sx2v77T81OMx"
    },
    {
      "cell_type": "code",
      "execution_count": 13,
      "id": "92b1b5ec",
      "metadata": {
        "colab": {
          "base_uri": "https://localhost:8080/",
          "height": 564
        },
        "id": "92b1b5ec",
        "outputId": "d4ede204-7b42-417a-a6bc-470d880f32d8"
      },
      "outputs": [
        {
          "output_type": "display_data",
          "data": {
            "text/plain": [
              "<Figure size 800x600 with 1 Axes>"
            ],
            "image/png": "[encoded data removed]"
          },
          "metadata": {}
        }
      ],
      "source": [
        "# Create a heatmap of the confusion matrix\n",
        "\n",
        "plt.figure(figsize=(8, 6))\n",
        "sns.heatmap(test_confusion_matrix, annot=True, fmt=\"d\", cmap=\"Blues\", cbar=False, xticklabels=labels, yticklabels=labels)\n",
        "plt.title(\"Confusion Matrix\")\n",
        "plt.xlabel(\"Predicted Labels\")\n",
        "plt.ylabel(\"True Labels\")\n",
        "plt.show()"
      ]
    },
    {
      "cell_type": "markdown",
      "source": [
        "1. **Import Required Libraries**: Before creating the heatmap, you need to import the necessary Python libraries, such as Matplotlib and Seaborn. Typically, you'll import them like this:\n",
        "\n",
        "```python\n",
        "import matplotlib.pyplot as plt\n",
        "import seaborn as sns\n",
        "```\n",
        "\n",
        "2. **Set Figure Size**: You can specify the size of the figure where the heatmap will be displayed using `plt.figure(figsize=(width, height))`. This step helps control the dimensions of the heatmap.\n",
        "\n",
        "```python\n",
        "plt.figure(figsize=(8, 6))\n",
        "```\n",
        "\n",
        "3. **Create the Heatmap**: To create the heatmap, use the `sns.heatmap()` function. Pass the confusion matrix as the data, set `annot=True` to display the values in each cell, and format the values using `fmt=\"d\"` for integers. You can also specify the colormap (`cmap`) to control the color scheme of the heatmap. In this case, it's set to \"Blues.\" To remove the color bar, you can set `cbar=False`.\n",
        "\n",
        "```python\n",
        "sns.heatmap(test_confusion_matrix, annot=True, fmt=\"d\", cmap=\"Blues\", cbar=False, xticklabels=labels, yticklabels=labels)\n",
        "```\n",
        "\n",
        "4. **Add Titles and Labels**: Enhance the readability of your heatmap by adding a title, labeling the x-axis and y-axis. This step helps viewers understand what the heatmap represents.\n",
        "\n",
        "```python\n",
        "plt.title(\"Confusion Matrix\")\n",
        "plt.xlabel(\"Predicted Labels\")\n",
        "plt.ylabel(\"True Labels\")\n",
        "```\n",
        "\n",
        "5. **Display the Heatmap**: Finally, use `plt.show()` to display the heatmap on your screen or in your Jupyter Notebook. This step is crucial to visualize the confusion matrix.\n",
        "\n",
        "```python\n",
        "plt.show()\n",
        "```\n",
        "\n",
        "By following these steps, you can create a visually informative heatmap of a confusion matrix in Python, making it easier to analyze the performance of a classification model."
      ],
      "metadata": {
        "id": "YLcNR3ST1PiZ"
      },
      "id": "YLcNR3ST1PiZ"
    },
    {
      "cell_type": "markdown",
      "id": "bb90af34",
      "metadata": {
        "id": "bb90af34"
      },
      "source": [
        "### Logistic regression"
      ]
    },
    {
      "cell_type": "code",
      "execution_count": 14,
      "id": "416f57f0",
      "metadata": {
        "colab": {
          "base_uri": "https://localhost:8080/",
          "height": 75
        },
        "id": "416f57f0",
        "outputId": "195e941e-c71d-49a1-84e2-90bdb3da8b47"
      },
      "outputs": [
        {
          "output_type": "execute_result",
          "data": {
            "text/plain": [
              "LogisticRegression(max_iter=1000)"
            ],
            "text/html": [
              "<style>#sk-container-id-2 {color: black;background-color: white;}#sk-container-id-2 pre{padding: 0;}#sk-container-id-2 div.sk-toggleable {background-color: white;}#sk-container-id-2 label.sk-toggleable__label {cursor: pointer;display: block;width: 100%;margin-bottom: 0;padding: 0.3em;box-sizing: border-box;text-align: center;}#sk-container-id-2 label.sk-toggleable__label-arrow:before {content: \"▸\";float: left;margin-right: 0.25em;color: #696969;}#sk-container-id-2 label.sk-toggleable__label-arrow:hover:before {color: black;}#sk-container-id-2 div.sk-estimator:hover label.sk-toggleable__label-arrow:before {color: black;}#sk-container-id-2 div.sk-toggleable__content {max-height: 0;max-width: 0;overflow: hidden;text-align: left;background-color: #f0f8ff;}#sk-container-id-2 div.sk-toggleable__content pre {margin: 0.2em;color: black;border-radius: 0.25em;background-color: #f0f8ff;}#sk-container-id-2 input.sk-toggleable__control:checked~div.sk-toggleable__content {max-height: 200px;max-width: 100%;overflow: auto;}#sk-container-id-2 input.sk-toggleable__control:checked~label.sk-toggleable__label-arrow:before {content: \"▾\";}#sk-container-id-2 div.sk-estimator input.sk-toggleable__control:checked~label.sk-toggleable__label {background-color: #d4ebff;}#sk-container-id-2 div.sk-label input.sk-toggleable__control:checked~label.sk-toggleable__label {background-color: #d4ebff;}#sk-container-id-2 input.sk-hidden--visually {border: 0;clip: rect(1px 1px 1px 1px);clip: rect(1px, 1px, 1px, 1px);height: 1px;margin: -1px;overflow: hidden;padding: 0;position: absolute;width: 1px;}#sk-container-id-2 div.sk-estimator {font-family: monospace;background-color: #f0f8ff;border: 1px dotted black;border-radius: 0.25em;box-sizing: border-box;margin-bottom: 0.5em;}#sk-container-id-2 div.sk-estimator:hover {background-color: #d4ebff;}#sk-container-id-2 div.sk-parallel-item::after {content: \"\";width: 100%;border-bottom: 1px solid gray;flex-grow: 1;}#sk-container-id-2 div.sk-label:hover label.sk-toggleable__label {background-color: #d4ebff;}#sk-container-id-2 div.sk-serial::before {content: \"\";position: absolute;border-left: 1px solid gray;box-sizing: border-box;top: 0;bottom: 0;left: 50%;z-index: 0;}#sk-container-id-2 div.sk-serial {display: flex;flex-direction: column;align-items: center;background-color: white;padding-right: 0.2em;padding-left: 0.2em;position: relative;}#sk-container-id-2 div.sk-item {position: relative;z-index: 1;}#sk-container-id-2 div.sk-parallel {display: flex;align-items: stretch;justify-content: center;background-color: white;position: relative;}#sk-container-id-2 div.sk-item::before, #sk-container-id-2 div.sk-parallel-item::before {content: \"\";position: absolute;border-left: 1px solid gray;box-sizing: border-box;top: 0;bottom: 0;left: 50%;z-index: -1;}#sk-container-id-2 div.sk-parallel-item {display: flex;flex-direction: column;z-index: 1;position: relative;background-color: white;}#sk-container-id-2 div.sk-parallel-item:first-child::after {align-self: flex-end;width: 50%;}#sk-container-id-2 div.sk-parallel-item:last-child::after {align-self: flex-start;width: 50%;}#sk-container-id-2 div.sk-parallel-item:only-child::after {width: 0;}#sk-container-id-2 div.sk-dashed-wrapped {border: 1px dashed gray;margin: 0 0.4em 0.5em 0.4em;box-sizing: border-box;padding-bottom: 0.4em;background-color: white;}#sk-container-id-2 div.sk-label label {font-family: monospace;font-weight: bold;display: inline-block;line-height: 1.2em;}#sk-container-id-2 div.sk-label-container {text-align: center;}#sk-container-id-2 div.sk-container {/* jupyter's `normalize.less` sets `[hidden] { display: none; }` but bootstrap.min.css set `[hidden] { display: none !important; }` so we also need the `!important` here to be able to override the default hidden behavior on the sphinx rendered scikit-learn.org. See: https://github.com/scikit-learn/scikit-learn/issues/21755 */display: inline-block !important;position: relative;}#sk-container-id-2 div.sk-text-repr-fallback {display: none;}</style><div id=\"sk-container-id-2\" class=\"sk-top-container\"><div class=\"sk-text-repr-fallback\"><pre>LogisticRegression(max_iter=1000)</pre><b>In a Jupyter environment, please rerun this cell to show the HTML representation or trust the notebook. <br />On GitHub, the HTML representation is unable to render, please try loading this page with nbviewer.org.</b></div><div class=\"sk-container\" hidden><div class=\"sk-item\"><div class=\"sk-estimator sk-toggleable\"><input class=\"sk-toggleable__control sk-hidden--visually\" id=\"sk-estimator-id-2\" type=\"checkbox\" checked><label for=\"sk-estimator-id-2\" class=\"sk-toggleable__label sk-toggleable__label-arrow\">LogisticRegression</label><div class=\"sk-toggleable__content\"><pre>LogisticRegression(max_iter=1000)</pre></div></div></div></div></div>"
            ]
          },
          "metadata": {},
          "execution_count": 14
        }
      ],
      "source": [
        "# Logistic Regression\n",
        "lr_model = LogisticRegression(max_iter=1000)\n",
        "lr_model.fit(train_x_vec, train_y)\n"
      ]
    },
    {
      "cell_type": "markdown",
      "source": [
        "## Logistic Regression\n",
        "\n",
        "- Logistic Regression is a widely used statistical and machine learning technique for binary classification problems (two classes).\n",
        "- It's an algorithm used for predicting the probability of a binary outcome (1 / 0, Yes / No, True / False) based on one or more predictor variables.\n",
        "- In the given code snippet, a Logistic Regression model is being used for classification.\n",
        "- `max_iter` is a hyperparameter that specifies the maximum number of iterations for the solver to converge. It's set to 1000 in this example to ensure convergence.\n",
        "- The `fit` method is used to train the Logistic Regression model on the provided training data (`train_x_vec` and `train_y`).\n",
        "- Once trained, the model can be used to make predictions on new data, making it suitable for various classification tasks.\n",
        "\n",
        "In summary, the code snippet first creates a heatmap to visualize the confusion matrix, which is a useful tool for evaluating classification model performance. Then, it utilizes a Logistic Regression model with a specified maximum number of iterations for training on training data."
      ],
      "metadata": {
        "id": "ggx0mtVH1RrW"
      },
      "id": "ggx0mtVH1RrW"
    },
    {
      "cell_type": "code",
      "execution_count": 15,
      "id": "d713e567",
      "metadata": {
        "id": "d713e567"
      },
      "outputs": [],
      "source": [
        "# Evaluate the model on the test data\n",
        "test_y_pred = lr_model.predict(test_x_vec)\n",
        "test_accuracy = accuracy_score(test_y, test_y_pred)\n",
        "test_confusion_matrix = confusion_matrix(test_y, test_y_pred)\n",
        "test_classification_report = classification_report(test_y, test_y_pred, zero_division=1)"
      ]
    },
    {
      "cell_type": "markdown",
      "source": [
        "1. Evaluate the model on the test data:\n",
        "   - Purpose: This code snippet is used to assess the performance of a machine learning model on a separate test dataset.\n",
        "   - Explanation:\n",
        "     - `test_y_pred`: This variable stores the model's predictions on the test dataset.\n",
        "     - `test_accuracy`: It calculates the accuracy of the model's predictions by comparing them to the true labels in `test_y`. Accuracy measures the proportion of correct predictions.\n",
        "     - `test_confusion_matrix`: This variable computes the confusion matrix for the test dataset, which is used to analyze the model's performance in more detail.\n",
        "     - `test_classification_report`: It generates a classification report that includes various metrics such as precision, recall, F1-score, and support for each class. The `zero_division` parameter is set to 1, which avoids division by zero errors in cases where there are no true positives for a class.\n",
        "   - Implementation: This code should be executed after the model has been trained and tested using a separate test dataset. It provides a comprehensive assessment of the model's performance on unseen data, beyond just accuracy."
      ],
      "metadata": {
        "id": "iQZNUbdS1SoM"
      },
      "id": "iQZNUbdS1SoM"
    },
    {
      "cell_type": "code",
      "execution_count": 16,
      "id": "0699ddf1",
      "metadata": {
        "colab": {
          "base_uri": "https://localhost:8080/"
        },
        "id": "0699ddf1",
        "outputId": "64298483-66b2-4990-fb6f-f10b90091b4d"
      },
      "outputs": [
        {
          "output_type": "stream",
          "name": "stdout",
          "text": [
            "Test Accuracy: 0.871\n",
            "\n",
            "\n",
            "Test Classification Report:\n",
            "              precision    recall  f1-score   support\n",
            "\n",
            "       anger       0.88      0.85      0.86       275\n",
            "        fear       0.89      0.80      0.84       224\n",
            "         joy       0.85      0.96      0.90       695\n",
            "        love       0.80      0.62      0.70       159\n",
            "     sadness       0.91      0.92      0.91       581\n",
            "    surprise       0.86      0.48      0.62        66\n",
            "\n",
            "    accuracy                           0.87      2000\n",
            "   macro avg       0.86      0.77      0.81      2000\n",
            "weighted avg       0.87      0.87      0.87      2000\n",
            "\n"
          ]
        }
      ],
      "source": [
        "print(f\"Test Accuracy: {test_accuracy}\")\n",
        "print(\"\\n\")\n",
        "print(f\"Test Classification Report:\\n{test_classification_report}\")"
      ]
    },
    {
      "cell_type": "markdown",
      "source": [
        "1. **Test Accuracy Display**: The first line of code prints the test accuracy of a machine learning model. This is a metric that measures the model's performance on a test dataset, often used in classification tasks. The `test_accuracy` variable holds the accuracy value.\n",
        "\n",
        "2. **Blank Line**: The second line simply prints an empty line. This is often used for better readability in the console output to visually separate different sections of information.\n",
        "\n",
        "3. **Test Classification Report Display**: The third line of code prints the test classification report. A classification report provides detailed information about the model's performance in terms of precision, recall, F1-score, and support for each class in a classification task. It helps evaluate how well the model can classify different classes. The `test_classification_report` variable holds the classification report.\n",
        "\n",
        "These lines of code are typically used in machine learning and data analysis tasks to report and analyze the performance of a trained model on a test dataset. They provide valuable insights into how well the model is doing in terms of accuracy and class-specific metrics."
      ],
      "metadata": {
        "id": "_PbpEvL71T3t"
      },
      "id": "_PbpEvL71T3t"
    },
    {
      "cell_type": "code",
      "execution_count": 17,
      "id": "62cce04e",
      "metadata": {
        "colab": {
          "base_uri": "https://localhost:8080/",
          "height": 564
        },
        "id": "62cce04e",
        "outputId": "2fa00b65-bdad-4c6b-ae45-08831d7b88db"
      },
      "outputs": [
        {
          "output_type": "display_data",
          "data": {
            "text/plain": [
              "<Figure size 800x600 with 1 Axes>"
            ],
            "image/png": "[encoded data removed]"
          },
          "metadata": {}
        }
      ],
      "source": [
        "# Create a heatmap of the confusion matrix\n",
        "plt.figure(figsize=(8, 6))\n",
        "sns.heatmap(test_confusion_matrix, annot=True, fmt=\"d\", cmap=\"Blues\", cbar=False, xticklabels=labels, yticklabels=labels)\n",
        "plt.title(\"Confusion Matrix\")\n",
        "plt.xlabel(\"Predicted Labels\")\n",
        "plt.ylabel(\"True Labels\")\n",
        "plt.show()"
      ]
    },
    {
      "cell_type": "markdown",
      "source": [
        "- In this code snippet, we create a heatmap to visualize a confusion matrix, which is often used in the evaluation of classification models.\n",
        "- We use the `matplotlib.pyplot` and `seaborn` libraries for creating and customizing the heatmap.\n",
        "- The `plt.figure(figsize=(8, 6))` line sets the size of the heatmap figure to make it more visually appealing.\n",
        "- `sns.heatmap` is used to create the heatmap, and we pass various parameters to customize its appearance and content.\n",
        "- `test_confusion_matrix` represents the actual confusion matrix data that you want to visualize.\n",
        "- `annot=True` displays the values inside each cell of the heatmap.\n",
        "- `fmt=\"d\"` specifies that the values should be formatted as integers.\n",
        "- `cmap=\"Blues\"` sets the color map for the heatmap to different shades of blue.\n",
        "- `cbar=False` hides the color bar on the side of the heatmap.\n",
        "- `xticklabels` and `yticklabels` allow you to specify labels for the x-axis (predicted labels) and y-axis (true labels).\n",
        "- Finally, we set the title and labels for the heatmap and display it using `plt.show()`.\n",
        "\n",
        "This code is useful for visualizing the performance of a classification model by displaying the true positive, true negative, false positive, and false negative counts in a clear and interpretable manner."
      ],
      "metadata": {
        "id": "6ahuSOw51Usf"
      },
      "id": "6ahuSOw51Usf"
    },
    {
      "cell_type": "markdown",
      "id": "b6f35848",
      "metadata": {
        "id": "b6f35848"
      },
      "source": [
        "### SVM (Support Vector Machines)"
      ]
    },
    {
      "cell_type": "code",
      "execution_count": 18,
      "id": "e3a23180",
      "metadata": {
        "colab": {
          "base_uri": "https://localhost:8080/",
          "height": 75
        },
        "id": "e3a23180",
        "outputId": "47128946-59ff-4f28-a75f-bdefcdbad9e2"
      },
      "outputs": [
        {
          "output_type": "execute_result",
          "data": {
            "text/plain": [
              "SVC(kernel='linear')"
            ],
            "text/html": [
              "<style>#sk-container-id-3 {color: black;background-color: white;}#sk-container-id-3 pre{padding: 0;}#sk-container-id-3 div.sk-toggleable {background-color: white;}#sk-container-id-3 label.sk-toggleable__label {cursor: pointer;display: block;width: 100%;margin-bottom: 0;padding: 0.3em;box-sizing: border-box;text-align: center;}#sk-container-id-3 label.sk-toggleable__label-arrow:before {content: \"▸\";float: left;margin-right: 0.25em;color: #696969;}#sk-container-id-3 label.sk-toggleable__label-arrow:hover:before {color: black;}#sk-container-id-3 div.sk-estimator:hover label.sk-toggleable__label-arrow:before {color: black;}#sk-container-id-3 div.sk-toggleable__content {max-height: 0;max-width: 0;overflow: hidden;text-align: left;background-color: #f0f8ff;}#sk-container-id-3 div.sk-toggleable__content pre {margin: 0.2em;color: black;border-radius: 0.25em;background-color: #f0f8ff;}#sk-container-id-3 input.sk-toggleable__control:checked~div.sk-toggleable__content {max-height: 200px;max-width: 100%;overflow: auto;}#sk-container-id-3 input.sk-toggleable__control:checked~label.sk-toggleable__label-arrow:before {content: \"▾\";}#sk-container-id-3 div.sk-estimator input.sk-toggleable__control:checked~label.sk-toggleable__label {background-color: #d4ebff;}#sk-container-id-3 div.sk-label input.sk-toggleable__control:checked~label.sk-toggleable__label {background-color: #d4ebff;}#sk-container-id-3 input.sk-hidden--visually {border: 0;clip: rect(1px 1px 1px 1px);clip: rect(1px, 1px, 1px, 1px);height: 1px;margin: -1px;overflow: hidden;padding: 0;position: absolute;width: 1px;}#sk-container-id-3 div.sk-estimator {font-family: monospace;background-color: #f0f8ff;border: 1px dotted black;border-radius: 0.25em;box-sizing: border-box;margin-bottom: 0.5em;}#sk-container-id-3 div.sk-estimator:hover {background-color: #d4ebff;}#sk-container-id-3 div.sk-parallel-item::after {content: \"\";width: 100%;border-bottom: 1px solid gray;flex-grow: 1;}#sk-container-id-3 div.sk-label:hover label.sk-toggleable__label {background-color: #d4ebff;}#sk-container-id-3 div.sk-serial::before {content: \"\";position: absolute;border-left: 1px solid gray;box-sizing: border-box;top: 0;bottom: 0;left: 50%;z-index: 0;}#sk-container-id-3 div.sk-serial {display: flex;flex-direction: column;align-items: center;background-color: white;padding-right: 0.2em;padding-left: 0.2em;position: relative;}#sk-container-id-3 div.sk-item {position: relative;z-index: 1;}#sk-container-id-3 div.sk-parallel {display: flex;align-items: stretch;justify-content: center;background-color: white;position: relative;}#sk-container-id-3 div.sk-item::before, #sk-container-id-3 div.sk-parallel-item::before {content: \"\";position: absolute;border-left: 1px solid gray;box-sizing: border-box;top: 0;bottom: 0;left: 50%;z-index: -1;}#sk-container-id-3 div.sk-parallel-item {display: flex;flex-direction: column;z-index: 1;position: relative;background-color: white;}#sk-container-id-3 div.sk-parallel-item:first-child::after {align-self: flex-end;width: 50%;}#sk-container-id-3 div.sk-parallel-item:last-child::after {align-self: flex-start;width: 50%;}#sk-container-id-3 div.sk-parallel-item:only-child::after {width: 0;}#sk-container-id-3 div.sk-dashed-wrapped {border: 1px dashed gray;margin: 0 0.4em 0.5em 0.4em;box-sizing: border-box;padding-bottom: 0.4em;background-color: white;}#sk-container-id-3 div.sk-label label {font-family: monospace;font-weight: bold;display: inline-block;line-height: 1.2em;}#sk-container-id-3 div.sk-label-container {text-align: center;}#sk-container-id-3 div.sk-container {/* jupyter's `normalize.less` sets `[hidden] { display: none; }` but bootstrap.min.css set `[hidden] { display: none !important; }` so we also need the `!important` here to be able to override the default hidden behavior on the sphinx rendered scikit-learn.org. See: https://github.com/scikit-learn/scikit-learn/issues/21755 */display: inline-block !important;position: relative;}#sk-container-id-3 div.sk-text-repr-fallback {display: none;}</style><div id=\"sk-container-id-3\" class=\"sk-top-container\"><div class=\"sk-text-repr-fallback\"><pre>SVC(kernel=&#x27;linear&#x27;)</pre><b>In a Jupyter environment, please rerun this cell to show the HTML representation or trust the notebook. <br />On GitHub, the HTML representation is unable to render, please try loading this page with nbviewer.org.</b></div><div class=\"sk-container\" hidden><div class=\"sk-item\"><div class=\"sk-estimator sk-toggleable\"><input class=\"sk-toggleable__control sk-hidden--visually\" id=\"sk-estimator-id-3\" type=\"checkbox\" checked><label for=\"sk-estimator-id-3\" class=\"sk-toggleable__label sk-toggleable__label-arrow\">SVC</label><div class=\"sk-toggleable__content\"><pre>SVC(kernel=&#x27;linear&#x27;)</pre></div></div></div></div></div>"
            ]
          },
          "metadata": {},
          "execution_count": 18
        }
      ],
      "source": [
        "svm_model = SVC(kernel='linear')  # You can try different kernels\n",
        "svm_model.fit(train_x_vec, train_y)"
      ]
    },
    {
      "cell_type": "markdown",
      "source": [
        "- `svm_model`: This variable is being used to create an instance of a Support Vector Machine (SVM) classifier.\n",
        "\n",
        "- `SVC(kernel='linear')`: Here, we're initializing an SVM classifier with a linear kernel. SVM is a supervised machine learning algorithm used for classification tasks, and the choice of the kernel determines the decision boundary shape. The linear kernel draws a linear decision boundary.\n",
        "\n",
        "- `svm_model.fit(train_x_vec, train_y)`: This line of code trains the SVM model on the training data. `train_x_vec` represents the training features, and `train_y` represents the corresponding target labels. The `fit` method is used to find the optimal decision boundary that separates different classes in the training data.\n",
        "\n",
        "In summary, this code snippet creates an SVM classifier with a linear kernel and trains it on the provided training data. The trained model can then be used to make predictions on new data points or evaluate its performance on test data. Additionally, you can experiment with different kernels (e.g., 'rbf', 'poly') to see how they affect the SVM's decision boundary."
      ],
      "metadata": {
        "id": "IbP_Nd5N1Whd"
      },
      "id": "IbP_Nd5N1Whd"
    },
    {
      "cell_type": "code",
      "execution_count": 19,
      "id": "e3d7c10a",
      "metadata": {
        "id": "e3d7c10a"
      },
      "outputs": [],
      "source": [
        "# Evaluate the model on the test data\n",
        "test_y_pred = svm_model.predict(test_x_vec)\n",
        "test_accuracy = accuracy_score(test_y, test_y_pred)\n",
        "test_confusion_matrix = confusion_matrix(test_y, test_y_pred)\n",
        "test_classification_report = classification_report(test_y, test_y_pred, zero_division=1)"
      ]
    },
    {
      "cell_type": "markdown",
      "source": [
        "1. `test_y_pred = svm_model.predict(test_x_vec)`: This line is using the trained SVM model (`svm_model`) to make predictions (`test_y_pred`) on the test data (`test_x_vec`).\n",
        "\n",
        "2. `test_accuracy = accuracy_score(test_y, test_y_pred)`: This line calculates the accuracy of the model's predictions by comparing them to the true labels (`test_y`). The `accuracy_score` function computes the fraction of correctly predicted instances.\n",
        "\n",
        "3. `test_confusion_matrix = confusion_matrix(test_y, test_y_pred)`: This line computes a confusion matrix (`test_confusion_matrix`) to provide a breakdown of the model's predictions, showing the number of true positives, true negatives, false positives, and false negatives for each class.\n",
        "\n",
        "4. `test_classification_report = classification_report(test_y, test_y_pred, zero_division=1)`: This line generates a classification report (`test_classification_report`) that includes various metrics such as precision, recall, F1-score, and support for each class. The `zero_division=1` parameter is used to handle cases where there are zero true positives, true negatives, or false positives for a class, avoiding division by zero errors.\n",
        "\n",
        "These evaluation metrics help you assess the performance of your SVM model on the test data and provide insights into how well it is classifying the data into different categories or classes."
      ],
      "metadata": {
        "id": "iBHxbdhH1W5z"
      },
      "id": "iBHxbdhH1W5z"
    },
    {
      "cell_type": "code",
      "execution_count": 20,
      "id": "f7e10a6a",
      "metadata": {
        "colab": {
          "base_uri": "https://localhost:8080/"
        },
        "id": "f7e10a6a",
        "outputId": "e765b42a-72fd-4fa4-83f1-9e71d18c44a1"
      },
      "outputs": [
        {
          "output_type": "stream",
          "name": "stdout",
          "text": [
            "Test Accuracy: 0.886\n",
            "\n",
            "\n",
            "Test Classification Report:\n",
            "              precision    recall  f1-score   support\n",
            "\n",
            "       anger       0.87      0.88      0.88       275\n",
            "        fear       0.86      0.85      0.86       224\n",
            "         joy       0.89      0.94      0.92       695\n",
            "        love       0.79      0.73      0.76       159\n",
            "     sadness       0.93      0.91      0.92       581\n",
            "    surprise       0.74      0.61      0.67        66\n",
            "\n",
            "    accuracy                           0.89      2000\n",
            "   macro avg       0.85      0.82      0.83      2000\n",
            "weighted avg       0.88      0.89      0.88      2000\n",
            "\n"
          ]
        }
      ],
      "source": [
        "print(f\"Test Accuracy: {test_accuracy}\")\n",
        "print(\"\\n\")\n",
        "print(f\"Test Classification Report:\\n{test_classification_report}\")"
      ]
    },
    {
      "cell_type": "markdown",
      "source": [
        "\n",
        "```python\n",
        "print(f\"Test Accuracy: {test_accuracy}\")\n",
        "```\n",
        "\n",
        "- This line of code is used to print the test accuracy of a machine learning model.\n",
        "- It uses an f-string to format the output, where `{test_accuracy}` will be replaced with the actual test accuracy value.\n",
        "- Test accuracy is a measure of how well the model performs on a separate test dataset, typically used for evaluating model performance.\n",
        "\n",
        "```python\n",
        "print(\"\\n\")\n",
        "```\n",
        "\n",
        "- This line of code prints a newline character, which adds a blank line in the console output.\n",
        "- It's often used to separate different sections or elements in the console output for better readability.\n",
        "\n",
        "```python\n",
        "print(f\"Test Classification Report:\\n{test_classification_report}\")\n",
        "```\n",
        "\n",
        "- This line of code is used to print a test classification report.\n",
        "- It uses an f-string to format the output, where `{test_classification_report}` will be replaced with the actual classification report.\n",
        "- A classification report provides various metrics (such as precision, recall, F1-score, and support) for each class in a classification problem.\n",
        "- It's a useful tool for assessing the performance of a classification model, especially in multi-class problems.\n",
        "\n",
        "In summary, the provided code snippet is responsible for displaying the test accuracy and a test classification report, including various performance metrics for a machine learning model. The use of f-strings allows for dynamic formatting of these values in the output."
      ],
      "metadata": {
        "id": "7GLxBxY-1Xwt"
      },
      "id": "7GLxBxY-1Xwt"
    },
    {
      "cell_type": "code",
      "execution_count": 21,
      "id": "ae437f2a",
      "metadata": {
        "colab": {
          "base_uri": "https://localhost:8080/",
          "height": 564
        },
        "id": "ae437f2a",
        "outputId": "2ca540a7-2889-4b15-8ccf-17719c2e9e5e"
      },
      "outputs": [
        {
          "output_type": "display_data",
          "data": {
            "text/plain": [
              "<Figure size 800x600 with 1 Axes>"
            ],
            "image/png": "[encoded data removed]"
          },
          "metadata": {}
        }
      ],
      "source": [
        "# Create a heatmap of the confusion matrix\n",
        "\n",
        "labels = ['sadness', 'anger', 'love', 'surprise', 'fear', 'joy']\n",
        "plt.figure(figsize=(8, 6))\n",
        "sns.heatmap(test_confusion_matrix, annot=True, fmt=\"d\", cmap=\"Blues\", cbar=False, xticklabels=labels, yticklabels=labels)\n",
        "plt.title(\"Confusion Matrix\")\n",
        "plt.xlabel(\"Predicted Labels\")\n",
        "plt.ylabel(\"True Labels\")\n",
        "plt.show()"
      ]
    },
    {
      "cell_type": "markdown",
      "source": [
        "1. This code is used to create a heatmap visualization of a confusion matrix, which is a common tool in machine learning for evaluating the performance of a classification model.\n",
        "\n",
        "2. The `labels` list contains the class labels or categories for which the confusion matrix is generated. These labels are used for the axis ticks on the heatmap.\n",
        "\n",
        "3. Matplotlib and Seaborn libraries are imported to create and style the heatmap.\n",
        "\n",
        "4. `plt.figure(figsize=(8, 6))` sets the size of the figure to control the dimensions of the heatmap.\n",
        "\n",
        "5. `sns.heatmap` is used to create the heatmap. Parameters like `annot=True` add annotations (numbers) to the cells, `fmt=\"d\"` formats the annotations as integers, `cmap=\"Blues\"` sets the color map to shades of blue, `cbar=False` removes the color bar, and `xticklabels` and `yticklabels` are used to set the labels for the axes.\n",
        "\n",
        "6. Finally, the code adds a title to the heatmap, labels the x and y axes, and displays the heatmap using `plt.show()`.\n",
        "\n",
        "This code is useful for visualizing the performance of a classification model by showing how well it predicts different classes and where it tends to make errors."
      ],
      "metadata": {
        "id": "nGcic6Gn1Ykm"
      },
      "id": "nGcic6Gn1Ykm"
    },
    {
      "cell_type": "code",
      "execution_count": 22,
      "id": "6f5f02d0",
      "metadata": {
        "id": "6f5f02d0"
      },
      "outputs": [],
      "source": [
        "new_text = [\n",
        "    \"I feel excited about the upcoming event.\",\n",
        "    \"The news made me feel anxious and worried.\",\n",
        "    \"This song always brings tears to my eyes.\",\n",
        "    \"I can't stop laughing at this funny video.\",\n",
        "    \"The unexpected surprise filled me with joy.\",\n",
        "    \"His rude behavior made me angry.\",\n",
        "    \"She looked so beautiful, and I couldn't help but fall in love.\",\n",
        "    \"The horror movie scared me to death.\",\n",
        "    \"The thrilling rollercoaster ride made my heart race with excitement.\",\n",
        "    \"The loss of my pet left me feeling devastated and sad.\",\n",
        "]"
      ]
    },
    {
      "cell_type": "markdown",
      "source": [
        "This code defines a list called \"new_text\" containing 10 different sentences, each describing various emotional reactions or feelings in response to different situations or stimuli. These sentences express emotions such as excitement, anxiety, joy, anger, love, fear, and sadness."
      ],
      "metadata": {
        "id": "62ZJQ-vN1ZbG"
      },
      "id": "62ZJQ-vN1ZbG"
    },
    {
      "cell_type": "code",
      "execution_count": 23,
      "id": "04d92da6",
      "metadata": {
        "id": "04d92da6"
      },
      "outputs": [],
      "source": [
        "\n",
        "# Vectorize the new text data\n",
        "new_text_vectorized = vectorizer.transform(new_text)\n"
      ]
    },
    {
      "cell_type": "markdown",
      "source": [
        "This code is transforming new text data into a numerical format using a vectorizer. The variable \"new_text_vectorized\" will hold the numerical representation of the new text data after this transformation, making it suitable for various machine learning algorithms or analysis tasks."
      ],
      "metadata": {
        "id": "lO7BC1G-1afc"
      },
      "id": "lO7BC1G-1afc"
    },
    {
      "cell_type": "code",
      "execution_count": 24,
      "id": "fe1f85c5",
      "metadata": {
        "colab": {
          "base_uri": "https://localhost:8080/"
        },
        "id": "fe1f85c5",
        "outputId": "a2da9b8e-3a56-4cbe-8c4f-a598f3e32c10"
      },
      "outputs": [
        {
          "output_type": "stream",
          "name": "stdout",
          "text": [
            "Best model: SVC(kernel='linear')\n",
            " Accuracy: 0.886\n"
          ]
        }
      ],
      "source": [
        "# Choose a random model\n",
        "models = [svm_model, lr_model, nb_model]\n",
        "def choose_best_model(models, X_test, y_test):\n",
        "    best_model = None\n",
        "    best_accuracy = 0.0\n",
        "\n",
        "    for model in models:\n",
        "        accuracy = model.score(X_test, y_test)\n",
        "        if accuracy > best_accuracy:\n",
        "            best_accuracy = accuracy\n",
        "            best_model = model\n",
        "\n",
        "    return best_model\n",
        "\n",
        "best_model = choose_best_model(models, test_x_vec, test_y)\n",
        "print(f\"Best model: {best_model}\\n Accuracy: {best_model.score(test_x_vec, test_y)}\")\n",
        "# Make predictions using the trained model\n"
      ]
    },
    {
      "cell_type": "markdown",
      "source": [
        "This code is designed to choose the best machine learning model from a list of models based on its accuracy on a test dataset and then use the selected best model to make predictions.\n",
        "\n",
        "1. `models` is a list containing different machine learning models, such as `svm_model`, `lr_model`, and `nb_model`.\n",
        "\n",
        "2. The `choose_best_model` function takes three arguments:\n",
        "   - `models`: The list of machine learning models to choose from.\n",
        "   - `X_test`: The test data features.\n",
        "   - `y_test`: The corresponding test data labels.\n",
        "\n",
        "3. Inside the `choose_best_model` function, it iterates through each model in the `models` list and calculates the accuracy of the model on the provided test data (`X_test` and `y_test`) using the `score` method. It keeps track of the best model with the highest accuracy encountered so far.\n",
        "\n",
        "4. After iterating through all models, the function returns the best model with the highest accuracy.\n",
        "\n",
        "5. Outside the function, the code calls `choose_best_model` with the list of models and the test data (`test_x_vec` and `test_y`). It stores the best model in the `best_model` variable.\n",
        "\n",
        "6. Finally, it prints the best model and its accuracy on the test data.\n",
        "\n",
        "In short, this code selects the best-performing machine learning model from a list of models based on their accuracy on the test dataset and then reports the selected model and its accuracy."
      ],
      "metadata": {
        "id": "UUMTFbgG1bMq"
      },
      "id": "UUMTFbgG1bMq"
    },
    {
      "cell_type": "code",
      "source": [
        "predictions = best_model.predict(new_text_vectorized)\n"
      ],
      "metadata": {
        "id": "-kloAuReSbq9"
      },
      "id": "-kloAuReSbq9",
      "execution_count": 25,
      "outputs": []
    },
    {
      "cell_type": "markdown",
      "source": [
        "This code snippet appears to make predictions using a machine learning model called \"best_model\" on some input data represented as \"new_text_vectorized.\" The \"best_model\" is likely a trained model, and it's being used to generate predictions or classifications for the input data in \"new_text_vectorized.\" The specific details of what \"best_model\" does and how \"new_text_vectorized\" is structured would require more context to explain further."
      ],
      "metadata": {
        "id": "NC2CLjly1b3R"
      },
      "id": "NC2CLjly1b3R"
    },
    {
      "cell_type": "code",
      "execution_count": 26,
      "id": "fb9e1e63",
      "metadata": {
        "colab": {
          "base_uri": "https://localhost:8080/"
        },
        "id": "fb9e1e63",
        "outputId": "b5cd8732-5a22-4195-978e-77b1397f12aa"
      },
      "outputs": [
        {
          "output_type": "stream",
          "name": "stdout",
          "text": [
            "Text: I feel excited about the upcoming event.\n",
            "Predicted Emotion: joy\n",
            "\n",
            "Text: The news made me feel anxious and worried.\n",
            "Predicted Emotion: fear\n",
            "\n",
            "Text: This song always brings tears to my eyes.\n",
            "Predicted Emotion: joy\n",
            "\n",
            "Text: I can't stop laughing at this funny video.\n",
            "Predicted Emotion: surprise\n",
            "\n",
            "Text: The unexpected surprise filled me with joy.\n",
            "Predicted Emotion: joy\n",
            "\n",
            "Text: His rude behavior made me angry.\n",
            "Predicted Emotion: anger\n",
            "\n",
            "Text: She looked so beautiful, and I couldn't help but fall in love.\n",
            "Predicted Emotion: joy\n",
            "\n",
            "Text: The horror movie scared me to death.\n",
            "Predicted Emotion: fear\n",
            "\n",
            "Text: The thrilling rollercoaster ride made my heart race with excitement.\n",
            "Predicted Emotion: joy\n",
            "\n",
            "Text: The loss of my pet left me feeling devastated and sad.\n",
            "Predicted Emotion: sadness\n",
            "\n"
          ]
        }
      ],
      "source": [
        "# Print the predictions\n",
        "for text, prediction in zip(new_text, predictions):\n",
        "    print(f\"Text: {text}\")\n",
        "    print(f\"Predicted Emotion: {prediction}\")\n",
        "    print()"
      ]
    },
    {
      "cell_type": "markdown",
      "source": [
        "This code appears to be a Python script that prints predictions for text data. It seems to loop through pairs of \"new_text\" and \"predictions\" and prints them in the following format:\n",
        "\n",
        "- It prints the text: \"Text: {text}\" where {text} is the actual text.\n",
        "- It prints the predicted emotion: \"Predicted Emotion: {prediction}\" where {prediction} is the predicted emotion associated with the text.\n",
        "- It adds an empty line between each pair of text and prediction, likely for better readability."
      ],
      "metadata": {
        "id": "H__GvtRW1dAR"
      },
      "id": "H__GvtRW1dAR"
    },
    {
      "cell_type": "markdown",
      "id": "dc9bd215",
      "metadata": {
        "id": "dc9bd215"
      },
      "source": [
        "### LSTM Model"
      ]
    },
    {
      "cell_type": "code",
      "execution_count": 27,
      "id": "6e0bd6da",
      "metadata": {
        "id": "6e0bd6da"
      },
      "outputs": [],
      "source": [
        "from sklearn.preprocessing import LabelEncoder\n",
        "from tensorflow.keras.models import Sequential\n",
        "from tensorflow.keras.layers import Dense, Dropout, Embedding, Flatten, LSTM, BatchNormalization, Bidirectional\n",
        "from tensorflow.keras.regularizers import l2\n",
        "from tensorflow.keras.callbacks import EarlyStopping\n",
        "from tensorflow.keras.layers import TextVectorization\n",
        "from tensorflow.keras.optimizers import Adam\n"
      ]
    },
    {
      "cell_type": "markdown",
      "source": [
        "This code snippet imports various libraries and modules for building and training a machine learning or deep learning model using TensorFlow and scikit-learn:\n",
        "\n",
        "1. `LabelEncoder`: This is used for encoding categorical labels into numerical values, typically used for classification tasks.\n",
        "\n",
        "2. `Sequential`: This is a class for creating a sequential neural network model in Keras, where layers are stacked one after the other.\n",
        "\n",
        "3. `Dense`, `Dropout`, `Embedding`, `Flatten`, `LSTM`, `BatchNormalization`, and `Bidirectional`: These are different types of layers that can be added to a neural network model in Keras. Each serves a specific purpose, like fully connected layers (Dense), dropout for regularization, embedding layers for text data, LSTM for sequential data, batch normalization for stabilizing training, and bidirectional layers for processing sequences in both directions.\n",
        "\n",
        "4. `l2`: This is a regularizer used to add L2 regularization to neural network layers, helping to prevent overfitting.\n",
        "\n",
        "5. `EarlyStopping`: A callback in Keras that stops training the model when a specified metric (e.g., validation loss) stops improving, thus preventing overfitting and saving training time.\n",
        "\n",
        "6. `TextVectorization`: This is used for converting text data into numerical representations suitable for deep learning models.\n",
        "\n",
        "7. `Adam`: This is an optimization algorithm used for training neural networks, known for its efficiency and effectiveness.\n",
        "\n",
        "Overall, this code imports the necessary tools for building and training deep learning models, including neural network layers, data preprocessing, regularization, and optimization techniques. The specific application and structure of the model using these components would need to be defined elsewhere in the code."
      ],
      "metadata": {
        "id": "MkH1U_w41fWQ"
      },
      "id": "MkH1U_w41fWQ"
    },
    {
      "cell_type": "code",
      "source": [
        "def remove_stopwords(text):\n",
        "    filtered_words = \" \".join([word for word in text.split() if word not in filtered_stopwords])\n",
        "    return filtered_words\n",
        "train_x"
      ],
      "metadata": {
        "colab": {
          "base_uri": "https://localhost:8080/"
        },
        "id": "shUEZFLhdB4e",
        "outputId": "c1fc923c-d61c-49d3-bcaa-d2138cb5a93d"
      },
      "id": "shUEZFLhdB4e",
      "execution_count": 28,
      "outputs": [
        {
          "output_type": "execute_result",
          "data": {
            "text/plain": [
              "0                                  i didnt feel humiliated\n",
              "1        i can go from feeling so hopeless to so damned...\n",
              "2         im grabbing a minute to post i feel greedy wrong\n",
              "3        i am ever feeling nostalgic about the fireplac...\n",
              "4                                     i am feeling grouchy\n",
              "                               ...                        \n",
              "17995    im having ssa examination tomorrow in the morn...\n",
              "17996    i constantly worry about their fight against n...\n",
              "17997    i feel its important to share this info for th...\n",
              "17998    i truly feel that if you are passionate enough...\n",
              "17999    i feel like i just wanna buy any cute make up ...\n",
              "Name: Comment, Length: 18000, dtype: object"
            ]
          },
          "metadata": {},
          "execution_count": 28
        }
      ]
    },
    {
      "cell_type": "markdown",
      "source": [
        "This code defines a function called `remove_stopwords` that takes a text as input and removes common stopwords from it. Stopwords are typically common words like \"the,\" \"and,\" \"is,\" etc., that are often removed to focus on the more meaningful content of the text.\n",
        "\n",
        "1. `def remove_stopwords(text):`: This line defines a function named `remove_stopwords` that takes one argument, `text`.\n",
        "\n",
        "2. `filtered_words = \" \".join([word for word in text.split() if word not in filtered_stopwords])`: This line does the actual work. It splits the input `text` into individual words, checks if each word is not in a list called `filtered_stopwords`, and if not, includes it in a list comprehension. Then, it joins these filtered words back into a single string with spaces in between and assigns it to the `filtered_words` variable.\n",
        "\n",
        "3. `return filtered_words`: Finally, the function returns the `filtered_words` string.\n",
        "\n",
        "However, there is a potential issue in the code because it references `filtered_stopwords` without defining it within the function. To make this code work correctly, you should define `filtered_stopwords` or pass it as an argument to the function. Additionally, there seems to be an unrelated `train_x` at the end of the code snippet, which doesn't appear to be connected to the `remove_stopwords` function."
      ],
      "metadata": {
        "id": "7L5EQcx91glM"
      },
      "id": "7L5EQcx91glM"
    },
    {
      "cell_type": "code",
      "source": [
        "x_train = train_x.apply(remove_stopwords)\n",
        "x_test = test_x.apply(remove_stopwords)\n",
        "x_val = val_x.apply(remove_stopwords)\n",
        "\n",
        "x_train[0]\n",
        "\n"
      ],
      "metadata": {
        "colab": {
          "base_uri": "https://localhost:8080/",
          "height": 35
        },
        "id": "ivj0qeBW4fOb",
        "outputId": "6589ac18-c84d-451f-947a-b3b2eaba03cc"
      },
      "id": "ivj0qeBW4fOb",
      "execution_count": 29,
      "outputs": [
        {
          "output_type": "execute_result",
          "data": {
            "text/plain": [
              "'didnt feel humiliated'"
            ],
            "application/vnd.google.colaboratory.intrinsic+json": {
              "type": "string"
            }
          },
          "metadata": {},
          "execution_count": 29
        }
      ]
    },
    {
      "cell_type": "markdown",
      "source": [
        "This code appears to be preprocessing text data for a machine learning model. Here's a short explanation:\n",
        "\n",
        "1. `train_x`, `test_x`, and `val_x` are assumed to be datasets containing text data.\n",
        "\n",
        "2. `remove_stopwords` is likely a function that removes common stopwords (e.g., \"and,\" \"the,\" \"is\") from the text.\n",
        "\n",
        "3. The code applies the `remove_stopwords` function to each element in `train_x`, `test_x`, and `val_x`, and stores the processed results in `x_train`, `x_test`, and `x_val`, respectively.\n",
        "\n",
        "4. Finally, it prints the first element (or document) in `x_train[0]`, which likely represents the text data after removing stopwords."
      ],
      "metadata": {
        "id": "whvgFJX21hVB"
      },
      "id": "whvgFJX21hVB"
    },
    {
      "cell_type": "code",
      "source": [
        "import tensorflow as tf\n",
        "VOCAB_SIZE = 2000\n",
        "output_vector_len = 120\n",
        "\n",
        "vectorize_layer = tf.keras.layers.TextVectorization(\n",
        " max_tokens=VOCAB_SIZE,\n",
        " output_mode='int',\n",
        " output_sequence_length=output_vector_len\n",
        " )\n",
        "\n",
        "# train vector\n",
        "vectorize_layer.adapt(train_x)"
      ],
      "metadata": {
        "id": "Ka8V63L34jvG"
      },
      "id": "Ka8V63L34jvG",
      "execution_count": 30,
      "outputs": []
    },
    {
      "cell_type": "markdown",
      "source": [
        "This code is written in Python and uses the TensorFlow library for deep learning. Here's a short explanation of what it does:\n",
        "\n",
        "1. It imports the TensorFlow library.\n",
        "\n",
        "2. It defines a constant `VOCAB_SIZE` with a value of 2000 and another constant `output_vector_len` with a value of 120.\n",
        "\n",
        "3. It creates a text vectorization layer using `tf.keras.layers.TextVectorization`. This layer is used to convert text data into numerical form suitable for deep learning models.\n",
        "\n",
        "4. The `max_tokens` parameter of the vectorization layer is set to 2000, which means it will consider the top 2000 most frequent words in the text for vectorization.\n",
        "\n",
        "5. The `output_mode` is set to 'int', indicating that the output will be integer values representing the words in the text.\n",
        "\n",
        "6. The `output_sequence_length` is set to 120, which means that the output sequences will have a fixed length of 120.\n",
        "\n",
        "7. Finally, the code adapts (fits) the vectorization layer to some training data `train_x`. This step essentially builds the vocabulary and configuration of the vectorization layer based on the training data, allowing it to convert text into numerical vectors effectively.\n",
        "\n",
        "In summary, this code sets up a text vectorization layer with specific settings and adapts it to training data for later use in a deep learning model."
      ],
      "metadata": {
        "id": "5o0L8nk_1i3u"
      },
      "id": "5o0L8nk_1i3u"
    },
    {
      "cell_type": "code",
      "source": [
        "X_train = vectorize_layer(x_train)\n",
        "X_test = vectorize_layer(x_test)\n",
        "X_val = vectorize_layer(x_val)\n"
      ],
      "metadata": {
        "id": "n20sB6gKdyxo"
      },
      "id": "n20sB6gKdyxo",
      "execution_count": 31,
      "outputs": []
    },
    {
      "cell_type": "markdown",
      "source": [
        "This code appears to be using TensorFlow to preprocess text data for some machine learning or deep learning task. Here's a short explanation of what it does:\n",
        "\n",
        "1. It imports the TensorFlow library.\n",
        "2. It defines two constants, `VOCAB_SIZE` with a value of 2000 and `output_vector_len` with a value of 120.\n",
        "3. It applies a function `vectorize_layer` to three different datasets: `x_train`, `x_test`, and `x_val`. This function likely converts the text data in these datasets into numerical vectors suitable for feeding into a machine learning or deep learning model.\n",
        "\n",
        "In summary, this code sets up some constants and then prepares text data for further processing using the `vectorize_layer` function. The specifics of the `vectorize_layer` function and how it transforms the text data are not provided in this code snippet."
      ],
      "metadata": {
        "id": "bkbbfFpt1jkG"
      },
      "id": "bkbbfFpt1jkG"
    },
    {
      "cell_type": "markdown",
      "source": [
        "# *Label Encoding*"
      ],
      "metadata": {
        "id": "QyVYjqLSRPor"
      },
      "id": "QyVYjqLSRPor"
    },
    {
      "cell_type": "code",
      "execution_count": 32,
      "id": "ee553792",
      "metadata": {
        "id": "ee553792"
      },
      "outputs": [],
      "source": [
        "# Encode emotion labels\n",
        "label_encoder = LabelEncoder()\n",
        "train_y_enc = label_encoder.fit_transform(train_y)\n",
        "test_y_enc = label_encoder.transform(test_y)\n",
        "val_y_enc = label_encoder.transform(val_y)\n",
        "\n",
        "num_classes = len(label_encoder.classes_)\n"
      ]
    },
    {
      "cell_type": "markdown",
      "source": [
        "This code is a Python script that seems to be preparing data for a machine learning or deep learning model, possibly for text classification or sentiment analysis using TensorFlow. Here's a short explanation:\n",
        "\n",
        "1. It imports the TensorFlow library.\n",
        "2. It sets two variables: `VOCAB_SIZE` and `output_vector_len`.\n",
        "3. It initializes a label encoder (`LabelEncoder`) to encode emotion labels into numerical values.\n",
        "4. It applies the label encoder to transform training, testing, and validation emotion labels (`train_y`, `test_y`, and `val_y`) into numerical representations.\n",
        "5. It calculates the number of unique classes (emotions) by finding the length of the classes discovered by the label encoder.\n",
        "\n",
        "The code seems to be a part of a larger machine learning or deep learning project that involves classifying emotions, and this snippet prepares the target labels for training and evaluation."
      ],
      "metadata": {
        "id": "Lw7k9lz61kOX"
      },
      "id": "Lw7k9lz61kOX"
    },
    {
      "cell_type": "code",
      "execution_count": 33,
      "id": "57255587",
      "metadata": {
        "colab": {
          "base_uri": "https://localhost:8080/"
        },
        "id": "57255587",
        "outputId": "649fc908-b368-4fc9-aa6a-1a8971c624f0"
      },
      "outputs": [
        {
          "output_type": "execute_result",
          "data": {
            "text/plain": [
              "6"
            ]
          },
          "metadata": {},
          "execution_count": 33
        }
      ],
      "source": [
        "num_classes"
      ]
    },
    {
      "cell_type": "markdown",
      "source": [
        "\"num_classes,\" is just a variable or identifier without any code associated with it. In programming, \"num_classes\" typically represents the number of classes or categories in a classification problem, but without additional context or code, it doesn't do anything on its own. It's likely used elsewhere in the program to specify the number of classes for a machine learning model or some other purpose."
      ],
      "metadata": {
        "id": "SjsHgGFR1lIv"
      },
      "id": "SjsHgGFR1lIv"
    },
    {
      "cell_type": "markdown",
      "id": "52dcd499",
      "metadata": {
        "id": "52dcd499"
      },
      "source": [
        "### Model Creation"
      ]
    },
    {
      "cell_type": "code",
      "execution_count": 34,
      "id": "5814f75c",
      "metadata": {
        "id": "5814f75c"
      },
      "outputs": [],
      "source": [
        "model = Sequential()\n",
        "model.add(Embedding(VOCAB_SIZE, 12, input_length=120))\n",
        "model.add(Bidirectional(LSTM(128, return_sequences=True)))\n",
        "model.add(Bidirectional(LSTM(64)))\n",
        "model.add(Dense(128, activation='relu'))\n",
        "model.add(Dropout(0.2))\n",
        "model.add(Dense(num_classes, activation='softmax'))\n",
        "\n",
        "model.compile(optimizer='adam', loss='sparse_categorical_crossentropy', metrics=['accuracy'])"
      ]
    },
    {
      "cell_type": "markdown",
      "source": [
        "1. `model = Sequential()`: This line creates a sequential neural network model. It means that you'll add layers one after the other.\n",
        "\n",
        "2. `model.add(Embedding(VOCAB_SIZE, 12, input_length=120))`: This line adds an embedding layer to the model. The embedding layer is used to convert integer-encoded words (vocab indices) into dense vectors of fixed size (12 in this case) for text processing. The input sequence length is set to 120.\n",
        "\n",
        "3. `model.add(Bidirectional(LSTM(128, return_sequences=True)))`: This line adds a bidirectional Long Short-Term Memory (LSTM) layer with 128 units to the model. The bidirectional LSTM processes input sequences in both directions (forward and backward) and returns sequences. This layer is often used for sequence data like text.\n",
        "\n",
        "4. `model.add(Bidirectional(LSTM(64)))`: Another bidirectional LSTM layer with 64 units is added. This one doesn't return sequences but instead provides a fixed-size output.\n",
        "\n",
        "5. `model.add(Dense(128, activation='relu'))`: A dense layer with 128 units and ReLU activation function is added. This is a standard feedforward layer that can capture complex patterns in the data.\n",
        "\n",
        "6. `model.add(Dropout(0.2))`: A dropout layer is added with a dropout rate of 0.2. Dropout is a regularization technique that helps prevent overfitting by randomly dropping a portion of neurons during training.\n",
        "\n",
        "7. `model.add(Dense(num_classes, activation='softmax'))`: Finally, a dense layer with the number of units equal to the number of classes in your classification problem is added. The softmax activation function is used here to output class probabilities for multi-class classification.\n",
        "\n",
        "8. `model.compile(optimizer='adam', loss='sparse_categorical_crossentropy', metrics=['accuracy'])`: This line compiles the model. It specifies the optimizer (Adam), the loss function (sparse categorical cross-entropy, suitable for classification tasks), and the metrics to monitor during training (accuracy).\n",
        "\n",
        "In summary, this code defines a neural network model for text classification, consisting of embedding layers, bidirectional LSTMs, dense layers, and dropout for regularization. It uses the Adam optimizer and sparse categorical cross-entropy loss for training."
      ],
      "metadata": {
        "id": "pbn-JC_B1mII"
      },
      "id": "pbn-JC_B1mII"
    },
    {
      "cell_type": "code",
      "source": [
        "# Train the model\n",
        "batch_size = 32\n",
        "epochs = 10\n",
        "early_stopping = tf.keras.callbacks.EarlyStopping(patience=3, restore_best_weights=True)\n",
        "\n",
        "history = model.fit(X_train, train_y_enc, batch_size=batch_size, epochs=epochs, validation_data=(X_val, val_y_enc),callbacks=[early_stopping])\n",
        "\n"
      ],
      "metadata": {
        "colab": {
          "base_uri": "https://localhost:8080/"
        },
        "id": "dpDR7uJ6pLRK",
        "outputId": "705bd896-d593-4a2e-b276-d8f8dd5a7040"
      },
      "id": "dpDR7uJ6pLRK",
      "execution_count": 35,
      "outputs": [
        {
          "output_type": "stream",
          "name": "stdout",
          "text": [
            "Epoch 1/10\n",
            "563/563 [==============================] - 47s 54ms/step - loss: 1.1794 - accuracy: 0.4988 - val_loss: 0.6281 - val_accuracy: 0.7790\n",
            "Epoch 2/10\n",
            "563/563 [==============================] - 15s 26ms/step - loss: 0.4386 - accuracy: 0.8508 - val_loss: 0.2536 - val_accuracy: 0.9150\n",
            "Epoch 3/10\n",
            "563/563 [==============================] - 13s 24ms/step - loss: 0.2567 - accuracy: 0.9105 - val_loss: 0.1854 - val_accuracy: 0.9280\n",
            "Epoch 4/10\n",
            "563/563 [==============================] - 13s 23ms/step - loss: 0.1943 - accuracy: 0.9262 - val_loss: 0.1383 - val_accuracy: 0.9460\n",
            "Epoch 5/10\n",
            "563/563 [==============================] - 14s 24ms/step - loss: 0.1769 - accuracy: 0.9308 - val_loss: 0.1062 - val_accuracy: 0.9565\n",
            "Epoch 6/10\n",
            "563/563 [==============================] - 12s 21ms/step - loss: 0.1414 - accuracy: 0.9431 - val_loss: 0.1399 - val_accuracy: 0.9410\n",
            "Epoch 7/10\n",
            "563/563 [==============================] - 14s 25ms/step - loss: 0.1245 - accuracy: 0.9480 - val_loss: 0.0901 - val_accuracy: 0.9620\n",
            "Epoch 8/10\n",
            "563/563 [==============================] - 12s 22ms/step - loss: 0.1114 - accuracy: 0.9533 - val_loss: 0.0846 - val_accuracy: 0.9645\n",
            "Epoch 9/10\n",
            "563/563 [==============================] - 12s 22ms/step - loss: 0.1277 - accuracy: 0.9493 - val_loss: 0.0796 - val_accuracy: 0.9715\n",
            "Epoch 10/10\n",
            "563/563 [==============================] - 13s 24ms/step - loss: 0.1004 - accuracy: 0.9586 - val_loss: 0.0716 - val_accuracy: 0.9700\n"
          ]
        }
      ]
    },
    {
      "cell_type": "markdown",
      "source": [
        "1. `batch_size`: It sets the number of data samples used in each training iteration.\n",
        "\n",
        "2. `epochs`: It specifies the number of times the entire training dataset will be used to train the model.\n",
        "\n",
        "3. `early_stopping`: It's a callback that stops training if the model's performance on a validation dataset doesn't improve for a specified number of epochs (3 in this case). It also restores the best model weights.\n",
        "\n",
        "4. `model.fit()`: This function trains the model. It uses training data `X_train` and their corresponding labels `train_y_enc`. It specifies the batch size, number of epochs, and validation data (`X_val` and `val_y_enc`). It also includes the `early_stopping` callback to monitor and stop training when necessary.\n",
        "\n",
        "In summary, this code trains a neural network model on the given data with early stopping to prevent overfitting and save the best model weights."
      ],
      "metadata": {
        "id": "YwCTljbt1nXo"
      },
      "id": "YwCTljbt1nXo"
    },
    {
      "cell_type": "code",
      "execution_count": 36,
      "id": "1368d51d",
      "metadata": {
        "colab": {
          "base_uri": "https://localhost:8080/",
          "height": 430
        },
        "id": "1368d51d",
        "outputId": "b44ffb5c-9be2-4441-f5ae-cdbe9c5ff720"
      },
      "outputs": [
        {
          "output_type": "display_data",
          "data": {
            "text/plain": [
              "<Figure size 640x480 with 1 Axes>"
            ],
            "image/png": "[encoded data removed]"
          },
          "metadata": {}
        }
      ],
      "source": [
        "import matplotlib.pyplot as plt\n",
        "plt.plot(history.history['loss'], label = 'Train loss')\n",
        "plt.plot(history.history['val_loss'], label = 'Valid loss')\n",
        "plt.legend()\n",
        "plt.show()"
      ]
    },
    {
      "cell_type": "markdown",
      "source": [
        "This code uses the Matplotlib library to create a line plot. It plots two lines on the same graph:\n",
        "\n",
        "1. The first line is the training loss, and it uses data from the 'loss' key in the 'history' dictionary.\n",
        "2. The second line is the validation loss, and it uses data from the 'val_loss' key in the 'history' dictionary.\n",
        "\n",
        "The `plt.legend()` function adds a legend to the plot to distinguish between the two lines, and `plt.show()` displays the plot. This code is typically used to visualize the training and validation loss of a machine learning model during training to assess its performance."
      ],
      "metadata": {
        "id": "AHxTsObG1oHq"
      },
      "id": "AHxTsObG1oHq"
    },
    {
      "cell_type": "code",
      "execution_count": 37,
      "id": "ce2aa884",
      "metadata": {
        "colab": {
          "base_uri": "https://localhost:8080/"
        },
        "id": "ce2aa884",
        "outputId": "c586c8af-c007-480f-d897-557062ffa203"
      },
      "outputs": [
        {
          "output_type": "stream",
          "name": "stdout",
          "text": [
            "Test loss: 0.24679780006408691\n",
            "Test accuracy: 0.9089999794960022\n"
          ]
        }
      ],
      "source": [
        "# Evaluate the model on the test data\n",
        "loss, acc = model.evaluate(X_test, test_y_enc, verbose=0)\n",
        "print(\"Test loss:\", loss)\n",
        "print(\"Test accuracy:\", acc)\n"
      ]
    },
    {
      "cell_type": "markdown",
      "source": [
        "This code evaluates a machine learning model on a test dataset. It calculates two metrics:\n",
        "\n",
        "1. **Loss**: A measure of how well the model's predictions match the actual values in the test data. Lower values indicate better performance.\n",
        "\n",
        "2. **Accuracy**: A measure of how many predictions the model got correct compared to the total number of predictions in the test data. It's usually expressed as a percentage.\n",
        "\n",
        "The code prints out the calculated loss and accuracy for the model's performance on the test data."
      ],
      "metadata": {
        "id": "Q8zaQJM_1plK"
      },
      "id": "Q8zaQJM_1plK"
    },
    {
      "cell_type": "code",
      "source": [
        "model.save('lstm_model.h5')"
      ],
      "metadata": {
        "id": "cMWYO4vaYzDe",
        "colab": {
          "base_uri": "https://localhost:8080/"
        },
        "outputId": "442765ff-014b-4843-9f2d-874a3f8817da"
      },
      "id": "cMWYO4vaYzDe",
      "execution_count": 38,
      "outputs": [
        {
          "output_type": "stream",
          "name": "stderr",
          "text": [
            "/usr/local/lib/python3.10/dist-packages/keras/src/engine/training.py:3000: UserWarning: You are saving your model as an HDF5 file via `model.save()`. This file format is considered legacy. We recommend using instead the native Keras format, e.g. `model.save('my_model.keras')`.\n",
            "  saving_api.save_model(\n"
          ]
        }
      ]
    },
    {
      "cell_type": "markdown",
      "source": [
        "This code is saving a machine learning model to a file named 'lstm_model.h5'. The model can later be loaded and used for making predictions without the need to retrain it from scratch."
      ],
      "metadata": {
        "id": "YemsasPO1sHX"
      },
      "id": "YemsasPO1sHX"
    },
    {
      "cell_type": "code",
      "execution_count": 39,
      "id": "04b10b49",
      "metadata": {
        "colab": {
          "base_uri": "https://localhost:8080/",
          "height": 430
        },
        "id": "04b10b49",
        "outputId": "1f4563f1-6e98-4985-b91f-be2b7d4bf62d"
      },
      "outputs": [
        {
          "output_type": "display_data",
          "data": {
            "text/plain": [
              "<Figure size 640x480 with 1 Axes>"
            ],
            "image/png": "[encoded data removed]"
          },
          "metadata": {}
        }
      ],
      "source": [
        "import matplotlib.pyplot as plt\n",
        "plt.plot(history.history['accuracy'], label = 'Train accuracy')\n",
        "plt.plot(history.history['val_accuracy'], label = 'Valid accuracy')\n",
        "plt.legend()\n",
        "plt.show()"
      ]
    },
    {
      "cell_type": "markdown",
      "source": [
        "This code uses the Matplotlib library to create a line plot. It plots the training accuracy and validation accuracy values stored in the `history` object. The training accuracy is represented as a blue line, labeled \"Train accuracy,\" and the validation accuracy is represented as an orange line, labeled \"Valid accuracy.\" The `plt.legend()` adds a legend to the plot to distinguish between the two lines, and `plt.show()` displays the plot."
      ],
      "metadata": {
        "id": "RqiXAyyV1s6H"
      },
      "id": "RqiXAyyV1s6H"
    },
    {
      "cell_type": "code",
      "execution_count": 40,
      "id": "a8707788",
      "metadata": {
        "colab": {
          "base_uri": "https://localhost:8080/"
        },
        "id": "a8707788",
        "outputId": "8ce7583d-e44e-48b1-a250-e484e7ec4dd9"
      },
      "outputs": [
        {
          "output_type": "stream",
          "name": "stdout",
          "text": [
            "63/63 [==============================] - 2s 10ms/step\n"
          ]
        }
      ],
      "source": [
        "# Generate predictions on the test data\n",
        "test_predictions = model.predict(X_test)\n",
        "predicted_labels = np.argmax(test_predictions, axis=1)"
      ]
    },
    {
      "cell_type": "markdown",
      "source": [
        "This code snippet generates predictions using a machine learning model on a test dataset. It first uses the `model.predict` method to obtain predicted probabilities for each class for the test data `X_test`. Then, it finds the class label with the highest probability for each data point by using `np.argmax` along `axis=1`. The resulting `predicted_labels` variable contains the predicted class labels for the test data."
      ],
      "metadata": {
        "id": "PjZi0scB1uSL"
      },
      "id": "PjZi0scB1uSL"
    },
    {
      "cell_type": "code",
      "execution_count": 41,
      "id": "fd29807c",
      "metadata": {
        "id": "fd29807c"
      },
      "outputs": [],
      "source": [
        "# Decode integer-encoded labels back to original emotions\n",
        "predicted_emotions = label_encoder.inverse_transform(predicted_labels)\n",
        "true_emotions = test_y"
      ]
    },
    {
      "cell_type": "markdown",
      "source": [
        "1. `predicted_labels` are integer-encoded labels predicted by a machine learning model.\n",
        "2. `label_encoder` is an object that was used to encode emotions into integers (e.g., \"happy\" as 0, \"sad\" as 1).\n",
        "3. `label_encoder.inverse_transform(predicted_labels)` reverses the encoding process, converting the integer predictions back into their original emotion labels, and stores them in the `predicted_emotions` variable.\n",
        "4. `test_y` presumably contains the true emotions corresponding to the test data, which were never encoded.\n",
        "5. `true_emotions` stores these true emotion labels.\n",
        "\n",
        "In summary, this code takes predicted integer-encoded labels, decodes them to their original emotions using the `label_encoder`, and stores both the predicted and true emotions for comparison or evaluation purposes."
      ],
      "metadata": {
        "id": "_keGnJFS1u0C"
      },
      "id": "_keGnJFS1u0C"
    },
    {
      "cell_type": "code",
      "execution_count": 42,
      "id": "0241a5db",
      "metadata": {
        "id": "0241a5db"
      },
      "outputs": [],
      "source": [
        "confusion_mtx = confusion_matrix(true_emotions, predicted_emotions)"
      ]
    },
    {
      "cell_type": "markdown",
      "source": [
        "This code computes a confusion matrix to evaluate the performance of a machine learning model's predictions. It takes two input arrays, `true_emotions` containing the true (actual) emotion labels, and `predicted_emotions` containing the predicted emotion labels generated by the model. The resulting `confusion_mtx` is a matrix that shows how many times each pair of true and predicted emotions occurs, which helps in assessing the model's accuracy and error patterns."
      ],
      "metadata": {
        "id": "hzZztVF81vXv"
      },
      "id": "hzZztVF81vXv"
    },
    {
      "cell_type": "code",
      "execution_count": 43,
      "metadata": {
        "id": "70c04c60",
        "colab": {
          "base_uri": "https://localhost:8080/",
          "height": 564
        },
        "outputId": "4daa9075-8e13-4408-9578-df02dd5dd396"
      },
      "outputs": [
        {
          "output_type": "display_data",
          "data": {
            "text/plain": [
              "<Figure size 800x600 with 2 Axes>"
            ],
            "image/png": "[encoded data removed]"
          },
          "metadata": {}
        }
      ],
      "source": [
        "# Plot the confusion matrix\n",
        "plt.figure(figsize=(8, 6))\n",
        "sns.heatmap(confusion_mtx, annot=True, fmt=\"d\", cmap=\"Blues\", xticklabels=label_encoder.classes_, yticklabels=label_encoder.classes_)\n",
        "plt.xlabel(\"Predicted Emotion\")\n",
        "plt.ylabel(\"True Emotion\")\n",
        "plt.title(\"Confusion Matrix\")\n",
        "plt.show()"
      ],
      "id": "70c04c60"
    },
    {
      "cell_type": "markdown",
      "source": [
        "This code is used to visualize a confusion matrix for a machine learning model's predictions. It uses Python libraries like Matplotlib and Seaborn to create a heatmap. The confusion matrix is a table that helps evaluate the performance of a classification model by showing the count of correct and incorrect predictions for different classes. In this code:\n",
        "\n",
        "1. A figure with a specified size is created for the plot.\n",
        "2. The confusion matrix (presumably stored in the variable `confusion_mtx`) is displayed as a heatmap using Seaborn's `heatmap` function.\n",
        "3. The `annot=True` parameter adds the values of the matrix cells to the heatmap.\n",
        "4. `fmt=\"d\"` specifies that the values should be displayed as integers.\n",
        "5. The color map \"Blues\" is used to represent the intensity of the values.\n",
        "6. The x-axis and y-axis labels are set using the class labels from `label_encoder.classes_`.\n",
        "7. The plot is given a title, and it's displayed using `plt.show()`.\n",
        "\n",
        "This code helps you visualize how well your machine learning model is performing in terms of predicting different classes by highlighting correct and incorrect predictions in the form of a color-coded heatmap."
      ],
      "metadata": {
        "id": "JeWhY0Vn1wXf"
      },
      "id": "JeWhY0Vn1wXf"
    },
    {
      "cell_type": "code",
      "execution_count": 44,
      "metadata": {
        "id": "ae346324",
        "colab": {
          "base_uri": "https://localhost:8080/"
        },
        "outputId": "4040c35d-1812-4fef-ea0d-4a916f14714e"
      },
      "outputs": [
        {
          "output_type": "stream",
          "name": "stdout",
          "text": [
            "Classification Report:\n",
            "              precision    recall  f1-score   support\n",
            "\n",
            "       anger       0.91      0.93      0.92       275\n",
            "        fear       0.89      0.83      0.86       224\n",
            "         joy       0.92      0.94      0.93       695\n",
            "        love       0.80      0.75      0.78       159\n",
            "     sadness       0.97      0.95      0.96       581\n",
            "    surprise       0.64      0.79      0.71        66\n",
            "\n",
            "    accuracy                           0.91      2000\n",
            "   macro avg       0.86      0.86      0.86      2000\n",
            "weighted avg       0.91      0.91      0.91      2000\n",
            "\n"
          ]
        }
      ],
      "source": [
        "# Generate a classification report\n",
        "report = classification_report(true_emotions, predicted_emotions)\n",
        "print(\"Classification Report:\")\n",
        "print(report)"
      ],
      "id": "ae346324"
    },
    {
      "cell_type": "markdown",
      "source": [],
      "metadata": {
        "id": "pRfkfPcV1xCQ"
      },
      "id": "pRfkfPcV1xCQ"
    },
    {
      "cell_type": "code",
      "execution_count": 45,
      "metadata": {
        "id": "d8069289",
        "colab": {
          "base_uri": "https://localhost:8080/"
        },
        "outputId": "92d9bdc7-c34f-4893-b34f-64ddad1c4f74"
      },
      "outputs": [
        {
          "output_type": "stream",
          "name": "stdout",
          "text": [
            "1/1 [==============================] - 0s 23ms/step\n",
            "Text: I feel bored while watching the movie and my friend call me for dineer. \n",
            " Predicted Emotion: sadness\n",
            "\n",
            "Text: The news about the accident was devastating and made me feel sad. \n",
            " Predicted Emotion: sadness\n",
            "\n",
            "Text: The conflict with a close friend has left me feeling hurt and upset. \n",
            " Predicted Emotion: sadness\n",
            "\n",
            "Text: I received a surprise gift from my partner, and it made me so happy. \n",
            " Predicted Emotion: joy\n",
            "\n",
            "Text: I feel anxious about the upcoming exam. \n",
            " Predicted Emotion: fear\n",
            "\n",
            "Text: I'm thrilled and excited about the upcoming vacation. \n",
            " Predicted Emotion: joy\n",
            "\n",
            "Text: I feel frustrated and annoyed with the constant noise outside. \n",
            " Predicted Emotion: anger\n",
            "\n",
            "Text: The scary movie gave me chills and made me fearful. \n",
            " Predicted Emotion: fear\n",
            "\n",
            "Text: I got your gift and I am glad now. \n",
            " Predicted Emotion: joy\n",
            "\n"
          ]
        }
      ],
      "source": [
        "import numpy as np\n",
        "\n",
        "# Function to predict emotions for a list of text inputs\n",
        "def predict_emotions(text_inputs, model, vectorize_layer, label_encoder):\n",
        "    # Vectorize the text inputs using the same TextVectorization layer used during training\n",
        "    text_inputs_vec = vectorize_layer(text_inputs)\n",
        "\n",
        "    # Make predictions using the trained model\n",
        "    predictions = model.predict(text_inputs_vec)\n",
        "\n",
        "    # Convert predicted probabilities to emotion labels using the label encoder\n",
        "    predicted_labels = label_encoder.inverse_transform(np.argmax(predictions, axis=1))\n",
        "\n",
        "    return predicted_labels\n",
        "\n",
        "# Example usage:\n",
        "new_texts = [\n",
        "    \"I feel bored while watching the movie and my friend call me for dineer.\",\n",
        "    \"The news about the accident was devastating and made me feel sad.\",\n",
        "    \"The conflict with a close friend has left me feeling hurt and upset.\",\n",
        "    \"I received a surprise gift from my partner, and it made me so happy.\",\n",
        "    \"I feel anxious about the upcoming exam.\",\n",
        "    \"I'm thrilled and excited about the upcoming vacation.\",\n",
        "    \"I feel frustrated and annoyed with the constant noise outside.\",\n",
        "    \"The scary movie gave me chills and made me fearful.\",\n",
        "    \"I got your gift and I am glad now.\"]\n",
        "\n",
        "predicted_emotions = predict_emotions(new_texts, model, vectorize_layer, label_encoder)\n",
        "\n",
        "# Print the predicted emotions\n",
        "for text, emotion in zip(new_texts, predicted_emotions):\n",
        "    print(f\"Text: {text} \\n Predicted Emotion: {emotion}\\n\")\n"
      ],
      "id": "d8069289"
    },
    {
      "cell_type": "markdown",
      "source": [
        "This code defines a Python function called `predict_emotions` that takes a list of text inputs, a machine learning model, a text vectorization layer, and a label encoder as input. The function's purpose is to predict emotions associated with each text input.\n",
        "\n",
        "1. The code first imports the necessary library, NumPy.\n",
        "\n",
        "2. The `predict_emotions` function takes four arguments:\n",
        "   - `text_inputs`: A list of text inputs for which emotions need to be predicted.\n",
        "   - `model`: A trained machine learning model capable of predicting emotions from text.\n",
        "   - `vectorize_layer`: A TextVectorization layer used for preprocessing the text inputs, ensuring they are in a suitable format for the model.\n",
        "   - `label_encoder`: An encoder used to convert predicted probabilities into emotion labels.\n",
        "\n",
        "3. Inside the function:\n",
        "   - It vectorizes the input texts using the provided `vectorize_layer`.\n",
        "   - It uses the trained `model` to make predictions on the vectorized text inputs.\n",
        "   - It converts the predicted probabilities into emotion labels using the `label_encoder`.\n",
        "   - The predicted emotion labels are returned as a list.\n",
        "\n",
        "4. The code provides an example usage of the `predict_emotions` function:\n",
        "   - It defines a list of new text inputs (`new_texts`).\n",
        "   - It calls the `predict_emotions` function with the provided arguments to predict emotions for the new texts.\n",
        "\n",
        "5. Finally, it prints the predicted emotions for each input text, pairing the text input with its corresponding predicted emotion.\n",
        "\n",
        "In summary, this code defines a function for predicting emotions from text using a trained machine learning model and demonstrates how to use it with a list of example text inputs."
      ],
      "metadata": {
        "id": "czWTr1bq1ySe"
      },
      "id": "czWTr1bq1ySe"
    }
  ],
  "metadata": {
    "kernelspec": {
      "display_name": "Python 3",
      "name": "python3"
    },
    "language_info": {
      "codemirror_mode": {
        "name": "ipython",
        "version": 3
      },
      "file_extension": ".py",
      "mimetype": "text/x-python",
      "name": "python",
      "nbconvert_exporter": "python",
      "pygments_lexer": "ipython3",
      "version": "3.11.4"
    },
    "colab": {
      "provenance": [],
      "gpuType": "T4",
      "include_colab_link": true
    },
    "accelerator": "GPU"
  },
  "nbformat": 4,
  "nbformat_minor": 5
}